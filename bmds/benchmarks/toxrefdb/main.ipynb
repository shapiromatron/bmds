{
 "cells": [
  {
   "cell_type": "code",
   "execution_count": null,
   "id": "bb606c89",
   "metadata": {},
   "outputs": [],
   "source": []
  },
  {
   "cell_type": "code",
   "execution_count": null,
   "id": "6b8d7ab9-5164-474e-8c42-8c5ed87168e1",
   "metadata": {
    "scrolled": true
   },
   "outputs": [],
   "source": [
    "from app import db\n",
    "from app.models import DichotomousDataset, DichotomousResult, ContinuousDataset, ContinuousResult\n",
    "from app import dichotomous, continuous\n",
    "import pandas as pd"
   ]
  },
  {
   "cell_type": "markdown",
   "id": "0268edf5-afbb-4991-bd75-ea0c88f63d3d",
   "metadata": {},
   "source": [
    "## Execute models"
   ]
  },
  {
   "cell_type": "code",
   "execution_count": null,
   "id": "475ca47a-b724-41ad-ae42-9551d4b87c85",
   "metadata": {},
   "outputs": [],
   "source": [
    "dichotomous.run_bmds2_models()"
   ]
  },
  {
   "cell_type": "code",
   "execution_count": null,
   "id": "c48802e3-a203-4e29-8999-206228b2cdbb",
   "metadata": {},
   "outputs": [],
   "source": [
    "bmds3_dicho_models = dichotomous.bmds3_models"
   ]
  },
  {
   "cell_type": "code",
   "execution_count": null,
   "id": "09f581e9-e6cf-4f1f-a49e-499a182503c1",
   "metadata": {},
   "outputs": [],
   "source": [
    "model = bmds3_dicho_models[0]\n",
    "dichotomous.run_bmds3_model(model[0],model[1],\"bmds3\")"
   ]
  },
  {
   "cell_type": "code",
   "execution_count": null,
   "id": "abdaf2da-6523-4c61-a2ee-11cf8000720a",
   "metadata": {},
   "outputs": [],
   "source": [
    "model = bmds3_dicho_models[1]\n",
    "dichotomous.run_bmds3_model(model[0],model[1],\"bmds3\")"
   ]
  },
  {
   "cell_type": "code",
   "execution_count": null,
   "id": "ff7e8691-bb4d-407d-be75-a5cf681efc59",
   "metadata": {},
   "outputs": [],
   "source": [
    "model = bmds3_dicho_models[2]\n",
    "dichotomous.run_bmds3_model(model[0],model[1],\"bmds3\")"
   ]
  },
  {
   "cell_type": "code",
   "execution_count": null,
   "id": "55661250-a3b3-4dbe-af42-4ef6b0646612",
   "metadata": {},
   "outputs": [],
   "source": [
    "model = bmds3_dicho_models[3]\n",
    "dichotomous.run_bmds3_model(model[0],model[1],\"bmds3\")"
   ]
  },
  {
   "cell_type": "code",
   "execution_count": null,
   "id": "81d002f0-5e83-4adf-9481-cff6bd45667f",
   "metadata": {},
   "outputs": [],
   "source": [
    "model = bmds3_dicho_models[4]\n",
    "dichotomous.run_bmds3_model(model[0],model[1],\"bmds3\")"
   ]
  },
  {
   "cell_type": "code",
   "execution_count": null,
   "id": "4e81f9d4-cbc4-494c-a6e5-f26014c2df73",
   "metadata": {},
   "outputs": [],
   "source": [
    "model = bmds3_dicho_models[5]\n",
    "dichotomous.run_bmds3_model(model[0],model[1],\"bmds3\")"
   ]
  },
  {
   "cell_type": "code",
   "execution_count": null,
   "id": "1095a949-879c-4e98-9697-94df45941afd",
   "metadata": {},
   "outputs": [],
   "source": [
    "model = bmds3_dicho_models[6]\n",
    "dichotomous.run_bmds3_model(model[0],model[1],\"bmds3\")"
   ]
  },
  {
   "cell_type": "code",
   "execution_count": null,
   "id": "480eb4fe-6dda-45e7-b7b3-dc978b8e89f3",
   "metadata": {},
   "outputs": [],
   "source": [
    "continuous.run_bmds2_models()"
   ]
  },
  {
   "cell_type": "code",
   "execution_count": null,
   "id": "7efecf5d-afa4-40bb-bfe6-359ed01ba41e",
   "metadata": {},
   "outputs": [],
   "source": [
    "continuous.run_bmds3_models(\"bmds3\")"
   ]
  },
  {
   "cell_type": "markdown",
   "id": "c9cb1d24-5adb-449b-b0b1-a6d8cb051ea4",
   "metadata": {},
   "source": [
    "## Query database"
   ]
  },
  {
   "cell_type": "code",
   "execution_count": null,
   "id": "c29d0273-dd5d-451c-813c-7d8a4309a2e7",
   "metadata": {},
   "outputs": [],
   "source": [
    "len(DichotomousDataset.query.all())"
   ]
  },
  {
   "cell_type": "code",
   "execution_count": null,
   "id": "be399f17-253a-4160-9d7f-28cd9dc6d043",
   "metadata": {},
   "outputs": [],
   "source": [
    "len(ContinuousDataset.query.all())"
   ]
  },
  {
   "cell_type": "code",
   "execution_count": null,
   "id": "270a4651-23e2-4ede-923f-46d19994af9c",
   "metadata": {},
   "outputs": [],
   "source": [
    "len(DichotomousResult.query.all())"
   ]
  },
  {
   "cell_type": "code",
   "execution_count": null,
   "id": "cd96278d-3421-44cb-a917-f3ad99c20734",
   "metadata": {},
   "outputs": [],
   "source": [
    "len(ContinuousResult.query.all())"
   ]
  },
  {
   "cell_type": "code",
   "execution_count": null,
   "id": "fb0cc363-46a0-41e9-aa35-962d750fefa9",
   "metadata": {},
   "outputs": [],
   "source": [
    "ContinuousResult.query.first()"
   ]
  },
  {
   "cell_type": "code",
   "execution_count": null,
   "id": "163fa9e6-0c67-4a78-88bd-f867bed0297c",
   "metadata": {},
   "outputs": [],
   "source": [
    "len(ContinuousResult.query.filter(ContinuousResult.completed==0).all())"
   ]
  },
  {
   "cell_type": "code",
   "execution_count": null,
   "id": "998d4f02-cc5b-4e1d-8ab1-cf654559f021",
   "metadata": {},
   "outputs": [],
   "source": [
    "len(DichotomousResult.query.filter(DichotomousResult.completed==0).all())"
   ]
  },
  {
   "cell_type": "markdown",
   "id": "671a4ac1-b10c-4d9d-a78d-e7e6925aeef1",
   "metadata": {},
   "source": [
    "## Get analysis"
   ]
  },
  {
   "cell_type": "code",
   "execution_count": null,
   "id": "1d1df98b-2368-45cd-aef2-9ae7a5c51be6",
   "metadata": {},
   "outputs": [],
   "source": [
    "continuous.compare_versions(\"bmds2\",\"bmds3\",.25)"
   ]
  },
  {
   "cell_type": "code",
   "execution_count": null,
   "id": "35226aff-897b-4103-ba7e-4f15cc33662a",
   "metadata": {},
   "outputs": [],
   "source": [
    "dichotomous.compare_versions(\"bmds2\",\"bmds3\",.25)"
   ]
  },
  {
   "cell_type": "markdown",
   "id": "1c86ea6a-ac6a-4a2d-9f54-18341a968626",
   "metadata": {},
   "source": [
    "## Upload datasets"
   ]
  },
  {
   "cell_type": "code",
   "execution_count": null,
   "id": "1f1d5f56-d0d2-4132-af2a-3b77a0858d17",
   "metadata": {},
   "outputs": [],
   "source": [
    "dichotomous_datasets = pd.read_csv('../BMDS_2_7_pipeline/dichotomous_tr.csv').to_dict(\"records\")\n",
    "dichotomous.bulk_save_datasets(dichotomous_datasets)"
   ]
  },
  {
   "cell_type": "code",
   "execution_count": null,
   "id": "5095346f-2cff-40b4-8066-defefc3b572b",
   "metadata": {},
   "outputs": [],
   "source": [
    "continuous_datasets = pd.read_csv('../BMDS_2_7_pipeline/continuous_NotBW.csv').to_dict(\"records\")\n",
    "continuous.bulk_save_datasets(continuous_datasets)"
   ]
  },
  {
   "cell_type": "code",
   "execution_count": null,
   "id": "8c2218eb-1d4d-44d4-8cb7-705922ad5e78",
   "metadata": {},
   "outputs": [],
   "source": [
    "#clear the database results table. \n",
    "\n",
    "DichotomousResult.query.delete()\n",
    "ContinuousResult.query.delete()\n",
    "DichotomousDataset.query.delete()\n",
    "ContinuousResult.query.delete()"
   ]
  },
  {
   "cell_type": "code",
   "execution_count": null,
   "id": "a60f1a41",
   "metadata": {},
   "outputs": [],
   "source": [
    "\n"
   ]
  },
  {
   "cell_type": "code",
   "execution_count": null,
   "id": "a1d1a9a0",
   "metadata": {},
   "outputs": [],
   "source": [
    "\n"
   ]
  },
  {
   "cell_type": "code",
   "execution_count": null,
   "id": "ce3fe5da",
   "metadata": {},
   "outputs": [],
   "source": []
  },
  {
   "cell_type": "code",
   "execution_count": null,
   "id": "9de575d8",
   "metadata": {},
   "outputs": [],
   "source": []
  }
 ],
 "metadata": {
  "kernelspec": {
   "display_name": "Python 3 (ipykernel)",
   "language": "python",
   "name": "python3"
  },
  "language_info": {
   "codemirror_mode": {
    "name": "ipython",
    "version": 3
   },
   "file_extension": ".py",
   "mimetype": "text/x-python",
   "name": "python",
   "nbconvert_exporter": "python",
   "pygments_lexer": "ipython3",
   "version": "3.9.7"
  }
 },
 "nbformat": 4,
 "nbformat_minor": 5
}
