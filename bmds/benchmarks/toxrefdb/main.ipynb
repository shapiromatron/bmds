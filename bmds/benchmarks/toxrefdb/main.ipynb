{
 "cells": [
  {
   "cell_type": "code",
   "execution_count": 54,
   "id": "6b8d7ab9-5164-474e-8c42-8c5ed87168e1",
   "metadata": {},
   "outputs": [],
   "source": [
    "from app import db\n",
    "from app.models import DichotomousDataset, DichotomousResult, ContinuousDataset, ContinuousResult\n",
    "from app import dichotomous, continuous\n",
    "import pandas as pd"
   ]
  },
  {
   "cell_type": "markdown",
   "id": "0268edf5-afbb-4991-bd75-ea0c88f63d3d",
   "metadata": {},
   "source": [
    "## Execute models"
   ]
  },
  {
   "cell_type": "code",
   "execution_count": 55,
   "id": "475ca47a-b724-41ad-ae42-9551d4b87c85",
   "metadata": {},
   "outputs": [
    {
     "data": {
      "application/vnd.jupyter.widget-view+json": {
       "model_id": "344399a9ce8b4b8eba6661aea796f81f",
       "version_major": 2,
       "version_minor": 0
      },
      "text/plain": [
       "  0%|          | 0/7 [00:00<?, ?it/s]"
      ]
     },
     "metadata": {},
     "output_type": "display_data"
    },
    {
     "data": {
      "application/vnd.jupyter.widget-view+json": {
       "model_id": "",
       "version_major": 2,
       "version_minor": 0
      },
      "text/plain": [
       "  0%|          | 0/10 [00:00<?, ?it/s]"
      ]
     },
     "metadata": {},
     "output_type": "display_data"
    },
    {
     "data": {
      "application/vnd.jupyter.widget-view+json": {
       "model_id": "",
       "version_major": 2,
       "version_minor": 0
      },
      "text/plain": [
       "  0%|          | 0/10 [00:00<?, ?it/s]"
      ]
     },
     "metadata": {},
     "output_type": "display_data"
    },
    {
     "data": {
      "application/vnd.jupyter.widget-view+json": {
       "model_id": "",
       "version_major": 2,
       "version_minor": 0
      },
      "text/plain": [
       "  0%|          | 0/10 [00:00<?, ?it/s]"
      ]
     },
     "metadata": {},
     "output_type": "display_data"
    },
    {
     "data": {
      "application/vnd.jupyter.widget-view+json": {
       "model_id": "",
       "version_major": 2,
       "version_minor": 0
      },
      "text/plain": [
       "  0%|          | 0/10 [00:00<?, ?it/s]"
      ]
     },
     "metadata": {},
     "output_type": "display_data"
    },
    {
     "data": {
      "application/vnd.jupyter.widget-view+json": {
       "model_id": "",
       "version_major": 2,
       "version_minor": 0
      },
      "text/plain": [
       "  0%|          | 0/10 [00:00<?, ?it/s]"
      ]
     },
     "metadata": {},
     "output_type": "display_data"
    },
    {
     "data": {
      "application/vnd.jupyter.widget-view+json": {
       "model_id": "",
       "version_major": 2,
       "version_minor": 0
      },
      "text/plain": [
       "  0%|          | 0/10 [00:00<?, ?it/s]"
      ]
     },
     "metadata": {},
     "output_type": "display_data"
    },
    {
     "data": {
      "application/vnd.jupyter.widget-view+json": {
       "model_id": "",
       "version_major": 2,
       "version_minor": 0
      },
      "text/plain": [
       "  0%|          | 0/10 [00:00<?, ?it/s]"
      ]
     },
     "metadata": {},
     "output_type": "display_data"
    },
    {
     "ename": "IntegrityError",
     "evalue": "(sqlite3.IntegrityError) UNIQUE constraint failed: dichotomous_results.bmds_version, dichotomous_results.model, dichotomous_results.dataset_id\n[SQL: INSERT INTO dichotomous_results (bmds_version, model, completed, inputs, outputs, bmd, bmdl, bmdu, aic, dataset_id) VALUES (?, ?, ?, ?, ?, ?, ?, ?, ?, ?)]\n[parameters: (('bmds2', 'DichotomousHill', 1, '{\"name\": \"Dichotomous-Hill\", \"defaults\": {\"bmdl_curve_calculation\": {\"c\": \"ot\", \"t\": \"b\", \"d\": 0, \"n\": \"BMDL curve calculation\"}, \"restrict_power\": { ... (643 characters truncated) ... ses to drop\"}, \"bmr\": {\"c\": \"b\", \"t\": \"i\", \"d\": 0.1}, \"bmr_type\": {\"c\": \"b\", \"t\": \"d\", \"d\": 0}, \"confidence_level\": {\"c\": \"b\", \"t\": \"d\", \"d\": 0.95}}}', '{\"model_name\": \"Dichotomous-Hill\", \"Chi2\": 1.08, \"df\": 1.0, \"p_value4\": 0.2996, \"residual_of_interest\": -0.4, \"BMD\": 115.047, \"BMDL\": 28.7562, \"BMDU\" ... (723 characters truncated) ... v\": \"NA\"}}, \"execution_start_time\": \"2021-09-07T11:10:32.581499\", \"execution_end_time\": \"2021-09-07T11:10:32.635502\", \"execution_duration\": 0.054003}', 115.047, 28.7562, -999.0, 86.7602, '10021371500'), ('bmds2', 'DichotomousHill', 1, '{\"name\": \"Dichotomous-Hill\", \"defaults\": {\"bmdl_curve_calculation\": {\"c\": \"ot\", \"t\": \"b\", \"d\": 0, \"n\": \"BMDL curve calculation\"}, \"restrict_power\": { ... (643 characters truncated) ... ses to drop\"}, \"bmr\": {\"c\": \"b\", \"t\": \"i\", \"d\": 0.1}, \"bmr_type\": {\"c\": \"b\", \"t\": \"d\", \"d\": 0}, \"confidence_level\": {\"c\": \"b\", \"t\": \"d\", \"d\": 0.95}}}', '{\"model_name\": \"Dichotomous-Hill\", \"Chi2\": 0.77, \"df\": 0.0, \"p_value4\": -999, \"residual_of_interest\": 0.0, \"BMD\": 700.575, \"BMDL\": 48.2268, \"BMDU\": - ... (822 characters truncated) ... t\": \"NA\"}}, \"execution_start_time\": \"2021-09-07T11:10:32.596501\", \"execution_end_time\": \"2021-09-07T11:10:32.666499\", \"execution_duration\": 0.069998}', 700.575, 48.2268, -999.0, 209.374, '10021371644'), ('bmds2', 'DichotomousHill', 1, '{\"name\": \"Dichotomous-Hill\", \"defaults\": {\"bmdl_curve_calculation\": {\"c\": \"ot\", \"t\": \"b\", \"d\": 0, \"n\": \"BMDL curve calculation\"}, \"restrict_power\": { ... (643 characters truncated) ... ses to drop\"}, \"bmr\": {\"c\": \"b\", \"t\": \"i\", \"d\": 0.1}, \"bmr_type\": {\"c\": \"b\", \"t\": \"d\", \"d\": 0}, \"confidence_level\": {\"c\": \"b\", \"t\": \"d\", \"d\": 0.95}}}', '{\"model_name\": \"Dichotomous-Hill\", \"Chi2\": 0.01, \"df\": 0.0, \"p_value4\": -999, \"residual_of_interest\": 0.0, \"BMD\": 68.7175, \"BMDL\": 36.7606, \"BMDU\": - ... (877 characters truncated) ... t\": \"NA\"}}, \"execution_start_time\": \"2021-09-07T11:10:32.595502\", \"execution_end_time\": \"2021-09-07T11:10:32.671499\", \"execution_duration\": 0.075997}', 68.7175, 36.7606, -999.0, 172.639, '10021372635'), ('bmds2', 'DichotomousHill', 1, '{\"name\": \"Dichotomous-Hill\", \"defaults\": {\"bmdl_curve_calculation\": {\"c\": \"ot\", \"t\": \"b\", \"d\": 0, \"n\": \"BMDL curve calculation\"}, \"restrict_power\": { ... (643 characters truncated) ... ses to drop\"}, \"bmr\": {\"c\": \"b\", \"t\": \"i\", \"d\": 0.1}, \"bmr_type\": {\"c\": \"b\", \"t\": \"d\", \"d\": 0}, \"confidence_level\": {\"c\": \"b\", \"t\": \"d\", \"d\": 0.95}}}', '{\"model_name\": \"Dichotomous-Hill\", \"Chi2\": 2.1, \"df\": 0.0, \"p_value4\": -999, \"residual_of_interest\": 0.0, \"BMD\": 520.539, \"BMDL\": 379.015, \"BMDU\": -9 ... (883 characters truncated) ... t\": \"NA\"}}, \"execution_start_time\": \"2021-09-07T11:10:32.581499\", \"execution_end_time\": \"2021-09-07T11:10:32.631501\", \"execution_duration\": 0.050002}', 520.539, 379.015, -999.0, 77.948, '1002137826'), ('bmds2', 'DichotomousHill', 1, '{\"name\": \"Dichotomous-Hill\", \"defaults\": {\"bmdl_curve_calculation\": {\"c\": \"ot\", \"t\": \"b\", \"d\": 0, \"n\": \"BMDL curve calculation\"}, \"restrict_power\": { ... (643 characters truncated) ... ses to drop\"}, \"bmr\": {\"c\": \"b\", \"t\": \"i\", \"d\": 0.1}, \"bmr_type\": {\"c\": \"b\", \"t\": \"d\", \"d\": 0}, \"confidence_level\": {\"c\": \"b\", \"t\": \"d\", \"d\": 0.95}}}', '{\"model_name\": \"Dichotomous-Hill\", \"Chi2\": 1.08, \"df\": 1.0, \"p_value4\": 0.2996, \"residual_of_interest\": -0.4, \"BMD\": 115.047, \"BMDL\": 28.7562, \"BMDU\" ... (723 characters truncated) ... v\": \"NA\"}}, \"execution_start_time\": \"2021-09-07T11:10:32.597499\", \"execution_end_time\": \"2021-09-07T11:10:32.643500\", \"execution_duration\": 0.046001}', 115.047, 28.7562, -999.0, 86.7602, '10022681436'), ('bmds2', 'DichotomousHill', 1, '{\"name\": \"Dichotomous-Hill\", \"defaults\": {\"bmdl_curve_calculation\": {\"c\": \"ot\", \"t\": \"b\", \"d\": 0, \"n\": \"BMDL curve calculation\"}, \"restrict_power\": { ... (643 characters truncated) ... ses to drop\"}, \"bmr\": {\"c\": \"b\", \"t\": \"i\", \"d\": 0.1}, \"bmr_type\": {\"c\": \"b\", \"t\": \"d\", \"d\": 0}, \"confidence_level\": {\"c\": \"b\", \"t\": \"d\", \"d\": 0.95}}}', '{\"model_name\": \"Dichotomous-Hill\", \"Chi2\": 0.0, \"df\": 1.0, \"p_value4\": 0.9994, \"residual_of_interest\": 0.0, \"BMD\": 667.268, \"BMDL\": 336.416, \"BMDU\":  ... (819 characters truncated) ... t\": \"NA\"}}, \"execution_start_time\": \"2021-09-07T11:10:32.586500\", \"execution_end_time\": \"2021-09-07T11:10:32.631501\", \"execution_duration\": 0.045001}', 667.268, 336.416, -999.0, 64.7042, '10023112650'), ('bmds2', 'DichotomousHill', 1, '{\"name\": \"Dichotomous-Hill\", \"defaults\": {\"bmdl_curve_calculation\": {\"c\": \"ot\", \"t\": \"b\", \"d\": 0, \"n\": \"BMDL curve calculation\"}, \"restrict_power\": { ... (643 characters truncated) ... ses to drop\"}, \"bmr\": {\"c\": \"b\", \"t\": \"i\", \"d\": 0.1}, \"bmr_type\": {\"c\": \"b\", \"t\": \"d\", \"d\": 0}, \"confidence_level\": {\"c\": \"b\", \"t\": \"d\", \"d\": 0.95}}}', '{\"model_name\": \"Dichotomous-Hill\", \"Chi2\": 0.0, \"df\": 1.0, \"p_value4\": 0.9996, \"residual_of_interest\": 0.0, \"BMD\": 849.208, \"BMDL\": 87.6663, \"BMDU\":  ... (684 characters truncated) ...  1861.65}}, \"execution_start_time\": \"2021-09-07T11:10:32.576499\", \"execution_end_time\": \"2021-09-07T11:10:32.625501\", \"execution_duration\": 0.049002}', 849.208, 87.6663, -999.0, 37.1565, '10023112658'), ('bmds2', 'DichotomousHill', 1, '{\"name\": \"Dichotomous-Hill\", \"defaults\": {\"bmdl_curve_calculation\": {\"c\": \"ot\", \"t\": \"b\", \"d\": 0, \"n\": \"BMDL curve calculation\"}, \"restrict_power\": { ... (643 characters truncated) ... ses to drop\"}, \"bmr\": {\"c\": \"b\", \"t\": \"i\", \"d\": 0.1}, \"bmr_type\": {\"c\": \"b\", \"t\": \"d\", \"d\": 0}, \"confidence_level\": {\"c\": \"b\", \"t\": \"d\", \"d\": 0.95}}}', '{\"model_name\": \"Dichotomous-Hill\", \"Chi2\": 1.17, \"df\": 0.0, \"p_value4\": -999, \"residual_of_interest\": 0.0, \"BMD\": 634.07, \"BMDL\": 79.4385, \"BMDU\": -9 ... (763 characters truncated) ...  777.121}}, \"execution_start_time\": \"2021-09-07T11:10:32.595502\", \"execution_end_time\": \"2021-09-07T11:10:32.641503\", \"execution_duration\": 0.046001}', 634.07, 79.4385, -999.0, 152.788, '10023112972')  ... displaying 10 of 70 total bound parameter sets ...  ('bmds2', 'Weibull', 1, '{\"name\": \"Weibull\", \"defaults\": {\"bmdl_curve_calculation\": {\"c\": \"ot\", \"t\": \"b\", \"d\": 0, \"n\": \"BMDL curve calculation\"}, \"append_or_overwrite\": {\"c\": ... (700 characters truncated) ... ses to drop\"}, \"bmr\": {\"c\": \"b\", \"t\": \"i\", \"d\": 0.1}, \"bmr_type\": {\"c\": \"b\", \"t\": \"d\", \"d\": 0}, \"confidence_level\": {\"c\": \"b\", \"t\": \"d\", \"d\": 0.95}}}', '{\"model_name\": \"Weibull\", \"Chi2\": 1.2, \"df\": 1.0, \"p_value4\": 0.2724, \"residual_of_interest\": -0.0, \"BMD\": 710.02, \"BMDL\": 149.663, \"BMDU\": 178.673,  ... (688 characters truncated) ... \": \"1.#QNAN\"}}, \"execution_start_time\": \"2021-09-07T11:11:02.666256\", \"execution_end_time\": \"2021-09-07T11:11:02.726256\", \"execution_duration\": 0.06}', 710.02, 149.663, 178.673, 236.737, '1002591522'), ('bmds2', 'Weibull', 1, '{\"name\": \"Weibull\", \"defaults\": {\"bmdl_curve_calculation\": {\"c\": \"ot\", \"t\": \"b\", \"d\": 0, \"n\": \"BMDL curve calculation\"}, \"append_or_overwrite\": {\"c\": ... (700 characters truncated) ... ses to drop\"}, \"bmr\": {\"c\": \"b\", \"t\": \"i\", \"d\": 0.1}, \"bmr_type\": {\"c\": \"b\", \"t\": \"d\", \"d\": 0}, \"confidence_level\": {\"c\": \"b\", \"t\": \"d\", \"d\": 0.95}}}', '{\"model_name\": \"Weibull\", \"Chi2\": 2.22, \"df\": 1.0, \"p_value4\": 0.136, \"residual_of_interest\": 0.0, \"BMD\": 68.1642, \"BMDL\": 8.47318, \"BMDU\": 94.3628,  ... (661 characters truncated) ... 1.#QNAN\"}}, \"execution_start_time\": \"2021-09-07T11:11:02.681256\", \"execution_end_time\": \"2021-09-07T11:11:02.736254\", \"execution_duration\": 0.054998}', 68.1642, 8.47318, 94.3628, 25.505, '10031391244'))]\n(Background on this error at: https://sqlalche.me/e/14/gkpj)",
     "output_type": "error",
     "traceback": [
      "\u001b[1;31m---------------------------------------------------------------------------\u001b[0m",
      "\u001b[1;31mIntegrityError\u001b[0m                            Traceback (most recent call last)",
      "\u001b[1;32mc:\\dev\\temp\\main\\bmds-testing\\venv\\lib\\site-packages\\sqlalchemy\\engine\\base.py\u001b[0m in \u001b[0;36m_execute_context\u001b[1;34m(self, dialect, constructor, statement, parameters, execution_options, *args, **kw)\u001b[0m\n\u001b[0;32m   1750\u001b[0m                 \u001b[1;32mif\u001b[0m \u001b[1;32mnot\u001b[0m \u001b[0mevt_handled\u001b[0m\u001b[1;33m:\u001b[0m\u001b[1;33m\u001b[0m\u001b[1;33m\u001b[0m\u001b[0m\n\u001b[1;32m-> 1751\u001b[1;33m                     self.dialect.do_executemany(\n\u001b[0m\u001b[0;32m   1752\u001b[0m                         \u001b[0mcursor\u001b[0m\u001b[1;33m,\u001b[0m \u001b[0mstatement\u001b[0m\u001b[1;33m,\u001b[0m \u001b[0mparameters\u001b[0m\u001b[1;33m,\u001b[0m \u001b[0mcontext\u001b[0m\u001b[1;33m\u001b[0m\u001b[1;33m\u001b[0m\u001b[0m\n",
      "\u001b[1;32mc:\\dev\\temp\\main\\bmds-testing\\venv\\lib\\site-packages\\sqlalchemy\\engine\\default.py\u001b[0m in \u001b[0;36mdo_executemany\u001b[1;34m(self, cursor, statement, parameters, context)\u001b[0m\n\u001b[0;32m    713\u001b[0m     \u001b[1;32mdef\u001b[0m \u001b[0mdo_executemany\u001b[0m\u001b[1;33m(\u001b[0m\u001b[0mself\u001b[0m\u001b[1;33m,\u001b[0m \u001b[0mcursor\u001b[0m\u001b[1;33m,\u001b[0m \u001b[0mstatement\u001b[0m\u001b[1;33m,\u001b[0m \u001b[0mparameters\u001b[0m\u001b[1;33m,\u001b[0m \u001b[0mcontext\u001b[0m\u001b[1;33m=\u001b[0m\u001b[1;32mNone\u001b[0m\u001b[1;33m)\u001b[0m\u001b[1;33m:\u001b[0m\u001b[1;33m\u001b[0m\u001b[1;33m\u001b[0m\u001b[0m\n\u001b[1;32m--> 714\u001b[1;33m         \u001b[0mcursor\u001b[0m\u001b[1;33m.\u001b[0m\u001b[0mexecutemany\u001b[0m\u001b[1;33m(\u001b[0m\u001b[0mstatement\u001b[0m\u001b[1;33m,\u001b[0m \u001b[0mparameters\u001b[0m\u001b[1;33m)\u001b[0m\u001b[1;33m\u001b[0m\u001b[1;33m\u001b[0m\u001b[0m\n\u001b[0m\u001b[0;32m    715\u001b[0m \u001b[1;33m\u001b[0m\u001b[0m\n",
      "\u001b[1;31mIntegrityError\u001b[0m: UNIQUE constraint failed: dichotomous_results.bmds_version, dichotomous_results.model, dichotomous_results.dataset_id",
      "\nThe above exception was the direct cause of the following exception:\n",
      "\u001b[1;31mIntegrityError\u001b[0m                            Traceback (most recent call last)",
      "\u001b[1;32mC:\\Users\\BBHAND~1\\AppData\\Local\\Temp/ipykernel_4500/2172183368.py\u001b[0m in \u001b[0;36m<module>\u001b[1;34m\u001b[0m\n\u001b[1;32m----> 1\u001b[1;33m \u001b[0mdichotomous\u001b[0m\u001b[1;33m.\u001b[0m\u001b[0mrun_bmds2_models\u001b[0m\u001b[1;33m(\u001b[0m\u001b[1;33m)\u001b[0m\u001b[1;33m\u001b[0m\u001b[1;33m\u001b[0m\u001b[0m\n\u001b[0m",
      "\u001b[1;32mC:\\dev\\temp\\main\\BMDS-TESTING\\bmds\\test_db\\app\\dichotomous.py\u001b[0m in \u001b[0;36mrun_bmds2_models\u001b[1;34m()\u001b[0m\n\u001b[0;32m     95\u001b[0m \u001b[1;33m\u001b[0m\u001b[0m\n\u001b[0;32m     96\u001b[0m \u001b[1;32mdef\u001b[0m \u001b[0mrun_bmds2_models\u001b[0m\u001b[1;33m(\u001b[0m\u001b[1;33m)\u001b[0m\u001b[1;33m:\u001b[0m\u001b[1;33m\u001b[0m\u001b[1;33m\u001b[0m\u001b[0m\n\u001b[1;32m---> 97\u001b[1;33m     \u001b[0m_run_models\u001b[0m\u001b[1;33m(\u001b[0m\u001b[0mbmds2_models\u001b[0m\u001b[1;33m,\u001b[0m \u001b[1;34m\"bmds2\"\u001b[0m\u001b[1;33m,\u001b[0m \u001b[0m_execute_bmds2_model\u001b[0m\u001b[1;33m)\u001b[0m\u001b[1;33m\u001b[0m\u001b[1;33m\u001b[0m\u001b[0m\n\u001b[0m\u001b[0;32m     98\u001b[0m \u001b[1;33m\u001b[0m\u001b[0m\n\u001b[0;32m     99\u001b[0m \u001b[1;33m\u001b[0m\u001b[0m\n",
      "\u001b[1;32mC:\\dev\\temp\\main\\BMDS-TESTING\\bmds\\test_db\\app\\dichotomous.py\u001b[0m in \u001b[0;36m_run_models\u001b[1;34m(mods, version, execute)\u001b[0m\n\u001b[0;32m     73\u001b[0m     \u001b[0mobjects\u001b[0m \u001b[1;33m=\u001b[0m \u001b[0mmap\u001b[0m\u001b[1;33m(\u001b[0m\u001b[1;32mlambda\u001b[0m \u001b[0mres\u001b[0m\u001b[1;33m:\u001b[0m \u001b[0mmodels\u001b[0m\u001b[1;33m.\u001b[0m\u001b[0mDichotomousResult\u001b[0m\u001b[1;33m(\u001b[0m\u001b[1;33m**\u001b[0m\u001b[0mres\u001b[0m\u001b[1;33m.\u001b[0m\u001b[0mdict\u001b[0m\u001b[1;33m(\u001b[0m\u001b[1;33m)\u001b[0m\u001b[1;33m)\u001b[0m\u001b[1;33m,\u001b[0m \u001b[0mresults\u001b[0m\u001b[1;33m)\u001b[0m\u001b[1;33m\u001b[0m\u001b[1;33m\u001b[0m\u001b[0m\n\u001b[0;32m     74\u001b[0m     \u001b[1;32mwith\u001b[0m \u001b[0msession_scope\u001b[0m\u001b[1;33m(\u001b[0m\u001b[1;33m)\u001b[0m \u001b[1;32mas\u001b[0m \u001b[0msession\u001b[0m\u001b[1;33m:\u001b[0m\u001b[1;33m\u001b[0m\u001b[1;33m\u001b[0m\u001b[0m\n\u001b[1;32m---> 75\u001b[1;33m         \u001b[0msession\u001b[0m\u001b[1;33m.\u001b[0m\u001b[0mbulk_save_objects\u001b[0m\u001b[1;33m(\u001b[0m\u001b[0mobjects\u001b[0m\u001b[1;33m)\u001b[0m\u001b[1;33m\u001b[0m\u001b[1;33m\u001b[0m\u001b[0m\n\u001b[0m\u001b[0;32m     76\u001b[0m \u001b[1;33m\u001b[0m\u001b[0m\n\u001b[0;32m     77\u001b[0m \u001b[1;33m\u001b[0m\u001b[0m\n",
      "\u001b[1;32m<string>\u001b[0m in \u001b[0;36mbulk_save_objects\u001b[1;34m(self, objects, return_defaults, update_changed_only, preserve_order)\u001b[0m\n",
      "\u001b[1;32mc:\\dev\\temp\\main\\bmds-testing\\venv\\lib\\site-packages\\sqlalchemy\\orm\\session.py\u001b[0m in \u001b[0;36mbulk_save_objects\u001b[1;34m(self, objects, return_defaults, update_changed_only, preserve_order)\u001b[0m\n\u001b[0;32m   3533\u001b[0m \u001b[1;33m\u001b[0m\u001b[0m\n\u001b[0;32m   3534\u001b[0m         \u001b[1;32mfor\u001b[0m \u001b[1;33m(\u001b[0m\u001b[0mmapper\u001b[0m\u001b[1;33m,\u001b[0m \u001b[0misupdate\u001b[0m\u001b[1;33m)\u001b[0m\u001b[1;33m,\u001b[0m \u001b[0mstates\u001b[0m \u001b[1;32min\u001b[0m \u001b[0mitertools\u001b[0m\u001b[1;33m.\u001b[0m\u001b[0mgroupby\u001b[0m\u001b[1;33m(\u001b[0m\u001b[0mobj_states\u001b[0m\u001b[1;33m,\u001b[0m \u001b[0mkey\u001b[0m\u001b[1;33m)\u001b[0m\u001b[1;33m:\u001b[0m\u001b[1;33m\u001b[0m\u001b[1;33m\u001b[0m\u001b[0m\n\u001b[1;32m-> 3535\u001b[1;33m             self._bulk_save_mappings(\n\u001b[0m\u001b[0;32m   3536\u001b[0m                 \u001b[0mmapper\u001b[0m\u001b[1;33m,\u001b[0m\u001b[1;33m\u001b[0m\u001b[1;33m\u001b[0m\u001b[0m\n\u001b[0;32m   3537\u001b[0m                 \u001b[0mstates\u001b[0m\u001b[1;33m,\u001b[0m\u001b[1;33m\u001b[0m\u001b[1;33m\u001b[0m\u001b[0m\n",
      "\u001b[1;32mc:\\dev\\temp\\main\\bmds-testing\\venv\\lib\\site-packages\\sqlalchemy\\orm\\session.py\u001b[0m in \u001b[0;36m_bulk_save_mappings\u001b[1;34m(self, mapper, mappings, isupdate, isstates, return_defaults, update_changed_only, render_nulls)\u001b[0m\n\u001b[0;32m   3733\u001b[0m         \u001b[1;32mexcept\u001b[0m\u001b[1;33m:\u001b[0m\u001b[1;33m\u001b[0m\u001b[1;33m\u001b[0m\u001b[0m\n\u001b[0;32m   3734\u001b[0m             \u001b[1;32mwith\u001b[0m \u001b[0mutil\u001b[0m\u001b[1;33m.\u001b[0m\u001b[0msafe_reraise\u001b[0m\u001b[1;33m(\u001b[0m\u001b[1;33m)\u001b[0m\u001b[1;33m:\u001b[0m\u001b[1;33m\u001b[0m\u001b[1;33m\u001b[0m\u001b[0m\n\u001b[1;32m-> 3735\u001b[1;33m                 \u001b[0mtransaction\u001b[0m\u001b[1;33m.\u001b[0m\u001b[0mrollback\u001b[0m\u001b[1;33m(\u001b[0m\u001b[0m_capture_exception\u001b[0m\u001b[1;33m=\u001b[0m\u001b[1;32mTrue\u001b[0m\u001b[1;33m)\u001b[0m\u001b[1;33m\u001b[0m\u001b[1;33m\u001b[0m\u001b[0m\n\u001b[0m\u001b[0;32m   3736\u001b[0m         \u001b[1;32mfinally\u001b[0m\u001b[1;33m:\u001b[0m\u001b[1;33m\u001b[0m\u001b[1;33m\u001b[0m\u001b[0m\n\u001b[0;32m   3737\u001b[0m             \u001b[0mself\u001b[0m\u001b[1;33m.\u001b[0m\u001b[0m_flushing\u001b[0m \u001b[1;33m=\u001b[0m \u001b[1;32mFalse\u001b[0m\u001b[1;33m\u001b[0m\u001b[1;33m\u001b[0m\u001b[0m\n",
      "\u001b[1;32mc:\\dev\\temp\\main\\bmds-testing\\venv\\lib\\site-packages\\sqlalchemy\\util\\langhelpers.py\u001b[0m in \u001b[0;36m__exit__\u001b[1;34m(self, type_, value, traceback)\u001b[0m\n\u001b[0;32m     68\u001b[0m             \u001b[0mself\u001b[0m\u001b[1;33m.\u001b[0m\u001b[0m_exc_info\u001b[0m \u001b[1;33m=\u001b[0m \u001b[1;32mNone\u001b[0m  \u001b[1;31m# remove potential circular references\u001b[0m\u001b[1;33m\u001b[0m\u001b[1;33m\u001b[0m\u001b[0m\n\u001b[0;32m     69\u001b[0m             \u001b[1;32mif\u001b[0m \u001b[1;32mnot\u001b[0m \u001b[0mself\u001b[0m\u001b[1;33m.\u001b[0m\u001b[0mwarn_only\u001b[0m\u001b[1;33m:\u001b[0m\u001b[1;33m\u001b[0m\u001b[1;33m\u001b[0m\u001b[0m\n\u001b[1;32m---> 70\u001b[1;33m                 compat.raise_(\n\u001b[0m\u001b[0;32m     71\u001b[0m                     \u001b[0mexc_value\u001b[0m\u001b[1;33m,\u001b[0m\u001b[1;33m\u001b[0m\u001b[1;33m\u001b[0m\u001b[0m\n\u001b[0;32m     72\u001b[0m                     \u001b[0mwith_traceback\u001b[0m\u001b[1;33m=\u001b[0m\u001b[0mexc_tb\u001b[0m\u001b[1;33m,\u001b[0m\u001b[1;33m\u001b[0m\u001b[1;33m\u001b[0m\u001b[0m\n",
      "\u001b[1;32mc:\\dev\\temp\\main\\bmds-testing\\venv\\lib\\site-packages\\sqlalchemy\\util\\compat.py\u001b[0m in \u001b[0;36mraise_\u001b[1;34m(***failed resolving arguments***)\u001b[0m\n\u001b[0;32m    205\u001b[0m \u001b[1;33m\u001b[0m\u001b[0m\n\u001b[0;32m    206\u001b[0m         \u001b[1;32mtry\u001b[0m\u001b[1;33m:\u001b[0m\u001b[1;33m\u001b[0m\u001b[1;33m\u001b[0m\u001b[0m\n\u001b[1;32m--> 207\u001b[1;33m             \u001b[1;32mraise\u001b[0m \u001b[0mexception\u001b[0m\u001b[1;33m\u001b[0m\u001b[1;33m\u001b[0m\u001b[0m\n\u001b[0m\u001b[0;32m    208\u001b[0m         \u001b[1;32mfinally\u001b[0m\u001b[1;33m:\u001b[0m\u001b[1;33m\u001b[0m\u001b[1;33m\u001b[0m\u001b[0m\n\u001b[0;32m    209\u001b[0m             \u001b[1;31m# credit to\u001b[0m\u001b[1;33m\u001b[0m\u001b[1;33m\u001b[0m\u001b[1;33m\u001b[0m\u001b[0m\n",
      "\u001b[1;32mc:\\dev\\temp\\main\\bmds-testing\\venv\\lib\\site-packages\\sqlalchemy\\orm\\session.py\u001b[0m in \u001b[0;36m_bulk_save_mappings\u001b[1;34m(self, mapper, mappings, isupdate, isstates, return_defaults, update_changed_only, render_nulls)\u001b[0m\n\u001b[0;32m   3721\u001b[0m                 )\n\u001b[0;32m   3722\u001b[0m             \u001b[1;32melse\u001b[0m\u001b[1;33m:\u001b[0m\u001b[1;33m\u001b[0m\u001b[1;33m\u001b[0m\u001b[0m\n\u001b[1;32m-> 3723\u001b[1;33m                 persistence._bulk_insert(\n\u001b[0m\u001b[0;32m   3724\u001b[0m                     \u001b[0mmapper\u001b[0m\u001b[1;33m,\u001b[0m\u001b[1;33m\u001b[0m\u001b[1;33m\u001b[0m\u001b[0m\n\u001b[0;32m   3725\u001b[0m                     \u001b[0mmappings\u001b[0m\u001b[1;33m,\u001b[0m\u001b[1;33m\u001b[0m\u001b[1;33m\u001b[0m\u001b[0m\n",
      "\u001b[1;32mc:\\dev\\temp\\main\\bmds-testing\\venv\\lib\\site-packages\\sqlalchemy\\orm\\persistence.py\u001b[0m in \u001b[0;36m_bulk_insert\u001b[1;34m(mapper, mappings, session_transaction, isstates, return_defaults, render_nulls)\u001b[0m\n\u001b[0;32m    102\u001b[0m             )\n\u001b[0;32m    103\u001b[0m         )\n\u001b[1;32m--> 104\u001b[1;33m         _emit_insert_statements(\n\u001b[0m\u001b[0;32m    105\u001b[0m             \u001b[0mbase_mapper\u001b[0m\u001b[1;33m,\u001b[0m\u001b[1;33m\u001b[0m\u001b[1;33m\u001b[0m\u001b[0m\n\u001b[0;32m    106\u001b[0m             \u001b[1;32mNone\u001b[0m\u001b[1;33m,\u001b[0m\u001b[1;33m\u001b[0m\u001b[1;33m\u001b[0m\u001b[0m\n",
      "\u001b[1;32mc:\\dev\\temp\\main\\bmds-testing\\venv\\lib\\site-packages\\sqlalchemy\\orm\\persistence.py\u001b[0m in \u001b[0;36m_emit_insert_statements\u001b[1;34m(base_mapper, uowtransaction, mapper, table, insert, bookkeeping)\u001b[0m\n\u001b[0;32m   1092\u001b[0m             \u001b[0mmultiparams\u001b[0m \u001b[1;33m=\u001b[0m \u001b[1;33m[\u001b[0m\u001b[0mrec\u001b[0m\u001b[1;33m[\u001b[0m\u001b[1;36m2\u001b[0m\u001b[1;33m]\u001b[0m \u001b[1;32mfor\u001b[0m \u001b[0mrec\u001b[0m \u001b[1;32min\u001b[0m \u001b[0mrecords\u001b[0m\u001b[1;33m]\u001b[0m\u001b[1;33m\u001b[0m\u001b[1;33m\u001b[0m\u001b[0m\n\u001b[0;32m   1093\u001b[0m \u001b[1;33m\u001b[0m\u001b[0m\n\u001b[1;32m-> 1094\u001b[1;33m             c = connection._execute_20(\n\u001b[0m\u001b[0;32m   1095\u001b[0m                 \u001b[0mstatement\u001b[0m\u001b[1;33m,\u001b[0m \u001b[0mmultiparams\u001b[0m\u001b[1;33m,\u001b[0m \u001b[0mexecution_options\u001b[0m\u001b[1;33m=\u001b[0m\u001b[0mexecution_options\u001b[0m\u001b[1;33m\u001b[0m\u001b[1;33m\u001b[0m\u001b[0m\n\u001b[0;32m   1096\u001b[0m             )\n",
      "\u001b[1;32mc:\\dev\\temp\\main\\bmds-testing\\venv\\lib\\site-packages\\sqlalchemy\\engine\\base.py\u001b[0m in \u001b[0;36m_execute_20\u001b[1;34m(self, statement, parameters, execution_options)\u001b[0m\n\u001b[0;32m   1581\u001b[0m             )\n\u001b[0;32m   1582\u001b[0m         \u001b[1;32melse\u001b[0m\u001b[1;33m:\u001b[0m\u001b[1;33m\u001b[0m\u001b[1;33m\u001b[0m\u001b[0m\n\u001b[1;32m-> 1583\u001b[1;33m             \u001b[1;32mreturn\u001b[0m \u001b[0mmeth\u001b[0m\u001b[1;33m(\u001b[0m\u001b[0mself\u001b[0m\u001b[1;33m,\u001b[0m \u001b[0margs_10style\u001b[0m\u001b[1;33m,\u001b[0m \u001b[0mkwargs_10style\u001b[0m\u001b[1;33m,\u001b[0m \u001b[0mexecution_options\u001b[0m\u001b[1;33m)\u001b[0m\u001b[1;33m\u001b[0m\u001b[1;33m\u001b[0m\u001b[0m\n\u001b[0m\u001b[0;32m   1584\u001b[0m \u001b[1;33m\u001b[0m\u001b[0m\n\u001b[0;32m   1585\u001b[0m     def exec_driver_sql(\n",
      "\u001b[1;32mc:\\dev\\temp\\main\\bmds-testing\\venv\\lib\\site-packages\\sqlalchemy\\sql\\elements.py\u001b[0m in \u001b[0;36m_execute_on_connection\u001b[1;34m(self, connection, multiparams, params, execution_options, _force)\u001b[0m\n\u001b[0;32m    321\u001b[0m     ):\n\u001b[0;32m    322\u001b[0m         \u001b[1;32mif\u001b[0m \u001b[0m_force\u001b[0m \u001b[1;32mor\u001b[0m \u001b[0mself\u001b[0m\u001b[1;33m.\u001b[0m\u001b[0msupports_execution\u001b[0m\u001b[1;33m:\u001b[0m\u001b[1;33m\u001b[0m\u001b[1;33m\u001b[0m\u001b[0m\n\u001b[1;32m--> 323\u001b[1;33m             return connection._execute_clauseelement(\n\u001b[0m\u001b[0;32m    324\u001b[0m                 \u001b[0mself\u001b[0m\u001b[1;33m,\u001b[0m \u001b[0mmultiparams\u001b[0m\u001b[1;33m,\u001b[0m \u001b[0mparams\u001b[0m\u001b[1;33m,\u001b[0m \u001b[0mexecution_options\u001b[0m\u001b[1;33m\u001b[0m\u001b[1;33m\u001b[0m\u001b[0m\n\u001b[0;32m    325\u001b[0m             )\n",
      "\u001b[1;32mc:\\dev\\temp\\main\\bmds-testing\\venv\\lib\\site-packages\\sqlalchemy\\engine\\base.py\u001b[0m in \u001b[0;36m_execute_clauseelement\u001b[1;34m(self, elem, multiparams, params, execution_options)\u001b[0m\n\u001b[0;32m   1450\u001b[0m             \u001b[0mlinting\u001b[0m\u001b[1;33m=\u001b[0m\u001b[0mself\u001b[0m\u001b[1;33m.\u001b[0m\u001b[0mdialect\u001b[0m\u001b[1;33m.\u001b[0m\u001b[0mcompiler_linting\u001b[0m \u001b[1;33m|\u001b[0m \u001b[0mcompiler\u001b[0m\u001b[1;33m.\u001b[0m\u001b[0mWARN_LINTING\u001b[0m\u001b[1;33m,\u001b[0m\u001b[1;33m\u001b[0m\u001b[1;33m\u001b[0m\u001b[0m\n\u001b[0;32m   1451\u001b[0m         )\n\u001b[1;32m-> 1452\u001b[1;33m         ret = self._execute_context(\n\u001b[0m\u001b[0;32m   1453\u001b[0m             \u001b[0mdialect\u001b[0m\u001b[1;33m,\u001b[0m\u001b[1;33m\u001b[0m\u001b[1;33m\u001b[0m\u001b[0m\n\u001b[0;32m   1454\u001b[0m             \u001b[0mdialect\u001b[0m\u001b[1;33m.\u001b[0m\u001b[0mexecution_ctx_cls\u001b[0m\u001b[1;33m.\u001b[0m\u001b[0m_init_compiled\u001b[0m\u001b[1;33m,\u001b[0m\u001b[1;33m\u001b[0m\u001b[1;33m\u001b[0m\u001b[0m\n",
      "\u001b[1;32mc:\\dev\\temp\\main\\bmds-testing\\venv\\lib\\site-packages\\sqlalchemy\\engine\\base.py\u001b[0m in \u001b[0;36m_execute_context\u001b[1;34m(self, dialect, constructor, statement, parameters, execution_options, *args, **kw)\u001b[0m\n\u001b[0;32m   1812\u001b[0m \u001b[1;33m\u001b[0m\u001b[0m\n\u001b[0;32m   1813\u001b[0m         \u001b[1;32mexcept\u001b[0m \u001b[0mBaseException\u001b[0m \u001b[1;32mas\u001b[0m \u001b[0me\u001b[0m\u001b[1;33m:\u001b[0m\u001b[1;33m\u001b[0m\u001b[1;33m\u001b[0m\u001b[0m\n\u001b[1;32m-> 1814\u001b[1;33m             self._handle_dbapi_exception(\n\u001b[0m\u001b[0;32m   1815\u001b[0m                 \u001b[0me\u001b[0m\u001b[1;33m,\u001b[0m \u001b[0mstatement\u001b[0m\u001b[1;33m,\u001b[0m \u001b[0mparameters\u001b[0m\u001b[1;33m,\u001b[0m \u001b[0mcursor\u001b[0m\u001b[1;33m,\u001b[0m \u001b[0mcontext\u001b[0m\u001b[1;33m\u001b[0m\u001b[1;33m\u001b[0m\u001b[0m\n\u001b[0;32m   1816\u001b[0m             )\n",
      "\u001b[1;32mc:\\dev\\temp\\main\\bmds-testing\\venv\\lib\\site-packages\\sqlalchemy\\engine\\base.py\u001b[0m in \u001b[0;36m_handle_dbapi_exception\u001b[1;34m(self, e, statement, parameters, cursor, context)\u001b[0m\n\u001b[0;32m   1993\u001b[0m                 \u001b[0mutil\u001b[0m\u001b[1;33m.\u001b[0m\u001b[0mraise_\u001b[0m\u001b[1;33m(\u001b[0m\u001b[0mnewraise\u001b[0m\u001b[1;33m,\u001b[0m \u001b[0mwith_traceback\u001b[0m\u001b[1;33m=\u001b[0m\u001b[0mexc_info\u001b[0m\u001b[1;33m[\u001b[0m\u001b[1;36m2\u001b[0m\u001b[1;33m]\u001b[0m\u001b[1;33m,\u001b[0m \u001b[0mfrom_\u001b[0m\u001b[1;33m=\u001b[0m\u001b[0me\u001b[0m\u001b[1;33m)\u001b[0m\u001b[1;33m\u001b[0m\u001b[1;33m\u001b[0m\u001b[0m\n\u001b[0;32m   1994\u001b[0m             \u001b[1;32melif\u001b[0m \u001b[0mshould_wrap\u001b[0m\u001b[1;33m:\u001b[0m\u001b[1;33m\u001b[0m\u001b[1;33m\u001b[0m\u001b[0m\n\u001b[1;32m-> 1995\u001b[1;33m                 util.raise_(\n\u001b[0m\u001b[0;32m   1996\u001b[0m                     \u001b[0msqlalchemy_exception\u001b[0m\u001b[1;33m,\u001b[0m \u001b[0mwith_traceback\u001b[0m\u001b[1;33m=\u001b[0m\u001b[0mexc_info\u001b[0m\u001b[1;33m[\u001b[0m\u001b[1;36m2\u001b[0m\u001b[1;33m]\u001b[0m\u001b[1;33m,\u001b[0m \u001b[0mfrom_\u001b[0m\u001b[1;33m=\u001b[0m\u001b[0me\u001b[0m\u001b[1;33m\u001b[0m\u001b[1;33m\u001b[0m\u001b[0m\n\u001b[0;32m   1997\u001b[0m                 )\n",
      "\u001b[1;32mc:\\dev\\temp\\main\\bmds-testing\\venv\\lib\\site-packages\\sqlalchemy\\util\\compat.py\u001b[0m in \u001b[0;36mraise_\u001b[1;34m(***failed resolving arguments***)\u001b[0m\n\u001b[0;32m    205\u001b[0m \u001b[1;33m\u001b[0m\u001b[0m\n\u001b[0;32m    206\u001b[0m         \u001b[1;32mtry\u001b[0m\u001b[1;33m:\u001b[0m\u001b[1;33m\u001b[0m\u001b[1;33m\u001b[0m\u001b[0m\n\u001b[1;32m--> 207\u001b[1;33m             \u001b[1;32mraise\u001b[0m \u001b[0mexception\u001b[0m\u001b[1;33m\u001b[0m\u001b[1;33m\u001b[0m\u001b[0m\n\u001b[0m\u001b[0;32m    208\u001b[0m         \u001b[1;32mfinally\u001b[0m\u001b[1;33m:\u001b[0m\u001b[1;33m\u001b[0m\u001b[1;33m\u001b[0m\u001b[0m\n\u001b[0;32m    209\u001b[0m             \u001b[1;31m# credit to\u001b[0m\u001b[1;33m\u001b[0m\u001b[1;33m\u001b[0m\u001b[1;33m\u001b[0m\u001b[0m\n",
      "\u001b[1;32mc:\\dev\\temp\\main\\bmds-testing\\venv\\lib\\site-packages\\sqlalchemy\\engine\\base.py\u001b[0m in \u001b[0;36m_execute_context\u001b[1;34m(self, dialect, constructor, statement, parameters, execution_options, *args, **kw)\u001b[0m\n\u001b[0;32m   1749\u001b[0m                             \u001b[1;32mbreak\u001b[0m\u001b[1;33m\u001b[0m\u001b[1;33m\u001b[0m\u001b[0m\n\u001b[0;32m   1750\u001b[0m                 \u001b[1;32mif\u001b[0m \u001b[1;32mnot\u001b[0m \u001b[0mevt_handled\u001b[0m\u001b[1;33m:\u001b[0m\u001b[1;33m\u001b[0m\u001b[1;33m\u001b[0m\u001b[0m\n\u001b[1;32m-> 1751\u001b[1;33m                     self.dialect.do_executemany(\n\u001b[0m\u001b[0;32m   1752\u001b[0m                         \u001b[0mcursor\u001b[0m\u001b[1;33m,\u001b[0m \u001b[0mstatement\u001b[0m\u001b[1;33m,\u001b[0m \u001b[0mparameters\u001b[0m\u001b[1;33m,\u001b[0m \u001b[0mcontext\u001b[0m\u001b[1;33m\u001b[0m\u001b[1;33m\u001b[0m\u001b[0m\n\u001b[0;32m   1753\u001b[0m                     )\n",
      "\u001b[1;32mc:\\dev\\temp\\main\\bmds-testing\\venv\\lib\\site-packages\\sqlalchemy\\engine\\default.py\u001b[0m in \u001b[0;36mdo_executemany\u001b[1;34m(self, cursor, statement, parameters, context)\u001b[0m\n\u001b[0;32m    712\u001b[0m \u001b[1;33m\u001b[0m\u001b[0m\n\u001b[0;32m    713\u001b[0m     \u001b[1;32mdef\u001b[0m \u001b[0mdo_executemany\u001b[0m\u001b[1;33m(\u001b[0m\u001b[0mself\u001b[0m\u001b[1;33m,\u001b[0m \u001b[0mcursor\u001b[0m\u001b[1;33m,\u001b[0m \u001b[0mstatement\u001b[0m\u001b[1;33m,\u001b[0m \u001b[0mparameters\u001b[0m\u001b[1;33m,\u001b[0m \u001b[0mcontext\u001b[0m\u001b[1;33m=\u001b[0m\u001b[1;32mNone\u001b[0m\u001b[1;33m)\u001b[0m\u001b[1;33m:\u001b[0m\u001b[1;33m\u001b[0m\u001b[1;33m\u001b[0m\u001b[0m\n\u001b[1;32m--> 714\u001b[1;33m         \u001b[0mcursor\u001b[0m\u001b[1;33m.\u001b[0m\u001b[0mexecutemany\u001b[0m\u001b[1;33m(\u001b[0m\u001b[0mstatement\u001b[0m\u001b[1;33m,\u001b[0m \u001b[0mparameters\u001b[0m\u001b[1;33m)\u001b[0m\u001b[1;33m\u001b[0m\u001b[1;33m\u001b[0m\u001b[0m\n\u001b[0m\u001b[0;32m    715\u001b[0m \u001b[1;33m\u001b[0m\u001b[0m\n\u001b[0;32m    716\u001b[0m     \u001b[1;32mdef\u001b[0m \u001b[0mdo_execute\u001b[0m\u001b[1;33m(\u001b[0m\u001b[0mself\u001b[0m\u001b[1;33m,\u001b[0m \u001b[0mcursor\u001b[0m\u001b[1;33m,\u001b[0m \u001b[0mstatement\u001b[0m\u001b[1;33m,\u001b[0m \u001b[0mparameters\u001b[0m\u001b[1;33m,\u001b[0m \u001b[0mcontext\u001b[0m\u001b[1;33m=\u001b[0m\u001b[1;32mNone\u001b[0m\u001b[1;33m)\u001b[0m\u001b[1;33m:\u001b[0m\u001b[1;33m\u001b[0m\u001b[1;33m\u001b[0m\u001b[0m\n",
      "\u001b[1;31mIntegrityError\u001b[0m: (sqlite3.IntegrityError) UNIQUE constraint failed: dichotomous_results.bmds_version, dichotomous_results.model, dichotomous_results.dataset_id\n[SQL: INSERT INTO dichotomous_results (bmds_version, model, completed, inputs, outputs, bmd, bmdl, bmdu, aic, dataset_id) VALUES (?, ?, ?, ?, ?, ?, ?, ?, ?, ?)]\n[parameters: (('bmds2', 'DichotomousHill', 1, '{\"name\": \"Dichotomous-Hill\", \"defaults\": {\"bmdl_curve_calculation\": {\"c\": \"ot\", \"t\": \"b\", \"d\": 0, \"n\": \"BMDL curve calculation\"}, \"restrict_power\": { ... (643 characters truncated) ... ses to drop\"}, \"bmr\": {\"c\": \"b\", \"t\": \"i\", \"d\": 0.1}, \"bmr_type\": {\"c\": \"b\", \"t\": \"d\", \"d\": 0}, \"confidence_level\": {\"c\": \"b\", \"t\": \"d\", \"d\": 0.95}}}', '{\"model_name\": \"Dichotomous-Hill\", \"Chi2\": 1.08, \"df\": 1.0, \"p_value4\": 0.2996, \"residual_of_interest\": -0.4, \"BMD\": 115.047, \"BMDL\": 28.7562, \"BMDU\" ... (723 characters truncated) ... v\": \"NA\"}}, \"execution_start_time\": \"2021-09-07T11:10:32.581499\", \"execution_end_time\": \"2021-09-07T11:10:32.635502\", \"execution_duration\": 0.054003}', 115.047, 28.7562, -999.0, 86.7602, '10021371500'), ('bmds2', 'DichotomousHill', 1, '{\"name\": \"Dichotomous-Hill\", \"defaults\": {\"bmdl_curve_calculation\": {\"c\": \"ot\", \"t\": \"b\", \"d\": 0, \"n\": \"BMDL curve calculation\"}, \"restrict_power\": { ... (643 characters truncated) ... ses to drop\"}, \"bmr\": {\"c\": \"b\", \"t\": \"i\", \"d\": 0.1}, \"bmr_type\": {\"c\": \"b\", \"t\": \"d\", \"d\": 0}, \"confidence_level\": {\"c\": \"b\", \"t\": \"d\", \"d\": 0.95}}}', '{\"model_name\": \"Dichotomous-Hill\", \"Chi2\": 0.77, \"df\": 0.0, \"p_value4\": -999, \"residual_of_interest\": 0.0, \"BMD\": 700.575, \"BMDL\": 48.2268, \"BMDU\": - ... (822 characters truncated) ... t\": \"NA\"}}, \"execution_start_time\": \"2021-09-07T11:10:32.596501\", \"execution_end_time\": \"2021-09-07T11:10:32.666499\", \"execution_duration\": 0.069998}', 700.575, 48.2268, -999.0, 209.374, '10021371644'), ('bmds2', 'DichotomousHill', 1, '{\"name\": \"Dichotomous-Hill\", \"defaults\": {\"bmdl_curve_calculation\": {\"c\": \"ot\", \"t\": \"b\", \"d\": 0, \"n\": \"BMDL curve calculation\"}, \"restrict_power\": { ... (643 characters truncated) ... ses to drop\"}, \"bmr\": {\"c\": \"b\", \"t\": \"i\", \"d\": 0.1}, \"bmr_type\": {\"c\": \"b\", \"t\": \"d\", \"d\": 0}, \"confidence_level\": {\"c\": \"b\", \"t\": \"d\", \"d\": 0.95}}}', '{\"model_name\": \"Dichotomous-Hill\", \"Chi2\": 0.01, \"df\": 0.0, \"p_value4\": -999, \"residual_of_interest\": 0.0, \"BMD\": 68.7175, \"BMDL\": 36.7606, \"BMDU\": - ... (877 characters truncated) ... t\": \"NA\"}}, \"execution_start_time\": \"2021-09-07T11:10:32.595502\", \"execution_end_time\": \"2021-09-07T11:10:32.671499\", \"execution_duration\": 0.075997}', 68.7175, 36.7606, -999.0, 172.639, '10021372635'), ('bmds2', 'DichotomousHill', 1, '{\"name\": \"Dichotomous-Hill\", \"defaults\": {\"bmdl_curve_calculation\": {\"c\": \"ot\", \"t\": \"b\", \"d\": 0, \"n\": \"BMDL curve calculation\"}, \"restrict_power\": { ... (643 characters truncated) ... ses to drop\"}, \"bmr\": {\"c\": \"b\", \"t\": \"i\", \"d\": 0.1}, \"bmr_type\": {\"c\": \"b\", \"t\": \"d\", \"d\": 0}, \"confidence_level\": {\"c\": \"b\", \"t\": \"d\", \"d\": 0.95}}}', '{\"model_name\": \"Dichotomous-Hill\", \"Chi2\": 2.1, \"df\": 0.0, \"p_value4\": -999, \"residual_of_interest\": 0.0, \"BMD\": 520.539, \"BMDL\": 379.015, \"BMDU\": -9 ... (883 characters truncated) ... t\": \"NA\"}}, \"execution_start_time\": \"2021-09-07T11:10:32.581499\", \"execution_end_time\": \"2021-09-07T11:10:32.631501\", \"execution_duration\": 0.050002}', 520.539, 379.015, -999.0, 77.948, '1002137826'), ('bmds2', 'DichotomousHill', 1, '{\"name\": \"Dichotomous-Hill\", \"defaults\": {\"bmdl_curve_calculation\": {\"c\": \"ot\", \"t\": \"b\", \"d\": 0, \"n\": \"BMDL curve calculation\"}, \"restrict_power\": { ... (643 characters truncated) ... ses to drop\"}, \"bmr\": {\"c\": \"b\", \"t\": \"i\", \"d\": 0.1}, \"bmr_type\": {\"c\": \"b\", \"t\": \"d\", \"d\": 0}, \"confidence_level\": {\"c\": \"b\", \"t\": \"d\", \"d\": 0.95}}}', '{\"model_name\": \"Dichotomous-Hill\", \"Chi2\": 1.08, \"df\": 1.0, \"p_value4\": 0.2996, \"residual_of_interest\": -0.4, \"BMD\": 115.047, \"BMDL\": 28.7562, \"BMDU\" ... (723 characters truncated) ... v\": \"NA\"}}, \"execution_start_time\": \"2021-09-07T11:10:32.597499\", \"execution_end_time\": \"2021-09-07T11:10:32.643500\", \"execution_duration\": 0.046001}', 115.047, 28.7562, -999.0, 86.7602, '10022681436'), ('bmds2', 'DichotomousHill', 1, '{\"name\": \"Dichotomous-Hill\", \"defaults\": {\"bmdl_curve_calculation\": {\"c\": \"ot\", \"t\": \"b\", \"d\": 0, \"n\": \"BMDL curve calculation\"}, \"restrict_power\": { ... (643 characters truncated) ... ses to drop\"}, \"bmr\": {\"c\": \"b\", \"t\": \"i\", \"d\": 0.1}, \"bmr_type\": {\"c\": \"b\", \"t\": \"d\", \"d\": 0}, \"confidence_level\": {\"c\": \"b\", \"t\": \"d\", \"d\": 0.95}}}', '{\"model_name\": \"Dichotomous-Hill\", \"Chi2\": 0.0, \"df\": 1.0, \"p_value4\": 0.9994, \"residual_of_interest\": 0.0, \"BMD\": 667.268, \"BMDL\": 336.416, \"BMDU\":  ... (819 characters truncated) ... t\": \"NA\"}}, \"execution_start_time\": \"2021-09-07T11:10:32.586500\", \"execution_end_time\": \"2021-09-07T11:10:32.631501\", \"execution_duration\": 0.045001}', 667.268, 336.416, -999.0, 64.7042, '10023112650'), ('bmds2', 'DichotomousHill', 1, '{\"name\": \"Dichotomous-Hill\", \"defaults\": {\"bmdl_curve_calculation\": {\"c\": \"ot\", \"t\": \"b\", \"d\": 0, \"n\": \"BMDL curve calculation\"}, \"restrict_power\": { ... (643 characters truncated) ... ses to drop\"}, \"bmr\": {\"c\": \"b\", \"t\": \"i\", \"d\": 0.1}, \"bmr_type\": {\"c\": \"b\", \"t\": \"d\", \"d\": 0}, \"confidence_level\": {\"c\": \"b\", \"t\": \"d\", \"d\": 0.95}}}', '{\"model_name\": \"Dichotomous-Hill\", \"Chi2\": 0.0, \"df\": 1.0, \"p_value4\": 0.9996, \"residual_of_interest\": 0.0, \"BMD\": 849.208, \"BMDL\": 87.6663, \"BMDU\":  ... (684 characters truncated) ...  1861.65}}, \"execution_start_time\": \"2021-09-07T11:10:32.576499\", \"execution_end_time\": \"2021-09-07T11:10:32.625501\", \"execution_duration\": 0.049002}', 849.208, 87.6663, -999.0, 37.1565, '10023112658'), ('bmds2', 'DichotomousHill', 1, '{\"name\": \"Dichotomous-Hill\", \"defaults\": {\"bmdl_curve_calculation\": {\"c\": \"ot\", \"t\": \"b\", \"d\": 0, \"n\": \"BMDL curve calculation\"}, \"restrict_power\": { ... (643 characters truncated) ... ses to drop\"}, \"bmr\": {\"c\": \"b\", \"t\": \"i\", \"d\": 0.1}, \"bmr_type\": {\"c\": \"b\", \"t\": \"d\", \"d\": 0}, \"confidence_level\": {\"c\": \"b\", \"t\": \"d\", \"d\": 0.95}}}', '{\"model_name\": \"Dichotomous-Hill\", \"Chi2\": 1.17, \"df\": 0.0, \"p_value4\": -999, \"residual_of_interest\": 0.0, \"BMD\": 634.07, \"BMDL\": 79.4385, \"BMDU\": -9 ... (763 characters truncated) ...  777.121}}, \"execution_start_time\": \"2021-09-07T11:10:32.595502\", \"execution_end_time\": \"2021-09-07T11:10:32.641503\", \"execution_duration\": 0.046001}', 634.07, 79.4385, -999.0, 152.788, '10023112972')  ... displaying 10 of 70 total bound parameter sets ...  ('bmds2', 'Weibull', 1, '{\"name\": \"Weibull\", \"defaults\": {\"bmdl_curve_calculation\": {\"c\": \"ot\", \"t\": \"b\", \"d\": 0, \"n\": \"BMDL curve calculation\"}, \"append_or_overwrite\": {\"c\": ... (700 characters truncated) ... ses to drop\"}, \"bmr\": {\"c\": \"b\", \"t\": \"i\", \"d\": 0.1}, \"bmr_type\": {\"c\": \"b\", \"t\": \"d\", \"d\": 0}, \"confidence_level\": {\"c\": \"b\", \"t\": \"d\", \"d\": 0.95}}}', '{\"model_name\": \"Weibull\", \"Chi2\": 1.2, \"df\": 1.0, \"p_value4\": 0.2724, \"residual_of_interest\": -0.0, \"BMD\": 710.02, \"BMDL\": 149.663, \"BMDU\": 178.673,  ... (688 characters truncated) ... \": \"1.#QNAN\"}}, \"execution_start_time\": \"2021-09-07T11:11:02.666256\", \"execution_end_time\": \"2021-09-07T11:11:02.726256\", \"execution_duration\": 0.06}', 710.02, 149.663, 178.673, 236.737, '1002591522'), ('bmds2', 'Weibull', 1, '{\"name\": \"Weibull\", \"defaults\": {\"bmdl_curve_calculation\": {\"c\": \"ot\", \"t\": \"b\", \"d\": 0, \"n\": \"BMDL curve calculation\"}, \"append_or_overwrite\": {\"c\": ... (700 characters truncated) ... ses to drop\"}, \"bmr\": {\"c\": \"b\", \"t\": \"i\", \"d\": 0.1}, \"bmr_type\": {\"c\": \"b\", \"t\": \"d\", \"d\": 0}, \"confidence_level\": {\"c\": \"b\", \"t\": \"d\", \"d\": 0.95}}}', '{\"model_name\": \"Weibull\", \"Chi2\": 2.22, \"df\": 1.0, \"p_value4\": 0.136, \"residual_of_interest\": 0.0, \"BMD\": 68.1642, \"BMDL\": 8.47318, \"BMDU\": 94.3628,  ... (661 characters truncated) ... 1.#QNAN\"}}, \"execution_start_time\": \"2021-09-07T11:11:02.681256\", \"execution_end_time\": \"2021-09-07T11:11:02.736254\", \"execution_duration\": 0.054998}', 68.1642, 8.47318, 94.3628, 25.505, '10031391244'))]\n(Background on this error at: https://sqlalche.me/e/14/gkpj)"
     ]
    }
   ],
   "source": [
    "dichotomous.run_bmds2_models()"
   ]
  },
  {
   "cell_type": "code",
   "execution_count": null,
   "id": "c48802e3-a203-4e29-8999-206228b2cdbb",
   "metadata": {},
   "outputs": [],
   "source": [
    "bmds3_dicho_models = dichotomous.bmds3_models"
   ]
  },
  {
   "cell_type": "code",
   "execution_count": null,
   "id": "09f581e9-e6cf-4f1f-a49e-499a182503c1",
   "metadata": {},
   "outputs": [],
   "source": [
    "model = bmds3_dicho_models[0]\n",
    "dichotomous.run_bmds3_model(model[0],model[1],\"bmds3\")"
   ]
  },
  {
   "cell_type": "code",
   "execution_count": null,
   "id": "abdaf2da-6523-4c61-a2ee-11cf8000720a",
   "metadata": {},
   "outputs": [],
   "source": [
    "model = bmds3_dicho_models[1]\n",
    "dichotomous.run_bmds3_model(model[0],model[1],\"bmds3\")"
   ]
  },
  {
   "cell_type": "code",
   "execution_count": null,
   "id": "ff7e8691-bb4d-407d-be75-a5cf681efc59",
   "metadata": {},
   "outputs": [],
   "source": [
    "model = bmds3_dicho_models[2]\n",
    "dichotomous.run_bmds3_model(model[0],model[1],\"bmds3\")"
   ]
  },
  {
   "cell_type": "code",
   "execution_count": null,
   "id": "55661250-a3b3-4dbe-af42-4ef6b0646612",
   "metadata": {},
   "outputs": [],
   "source": [
    "model = bmds3_dicho_models[3]\n",
    "dichotomous.run_bmds3_model(model[0],model[1],\"bmds3\")"
   ]
  },
  {
   "cell_type": "code",
   "execution_count": null,
   "id": "81d002f0-5e83-4adf-9481-cff6bd45667f",
   "metadata": {},
   "outputs": [],
   "source": [
    "model = bmds3_dicho_models[4]\n",
    "dichotomous.run_bmds3_model(model[0],model[1],\"bmds3\")"
   ]
  },
  {
   "cell_type": "code",
   "execution_count": null,
   "id": "4e81f9d4-cbc4-494c-a6e5-f26014c2df73",
   "metadata": {},
   "outputs": [],
   "source": [
    "model = bmds3_dicho_models[5]\n",
    "dichotomous.run_bmds3_model(model[0],model[1],\"bmds3\")"
   ]
  },
  {
   "cell_type": "code",
   "execution_count": null,
   "id": "1095a949-879c-4e98-9697-94df45941afd",
   "metadata": {},
   "outputs": [],
   "source": [
    "model = bmds3_dicho_models[6]\n",
    "dichotomous.run_bmds3_model(model[0],model[1],\"bmds3\")"
   ]
  },
  {
   "cell_type": "code",
   "execution_count": 57,
   "id": "480eb4fe-6dda-45e7-b7b3-dc978b8e89f3",
   "metadata": {},
   "outputs": [
    {
     "data": {
      "application/vnd.jupyter.widget-view+json": {
       "model_id": "4726aaec3c584013965b8e82246ce839",
       "version_major": 2,
       "version_minor": 0
      },
      "text/plain": [
       "  0%|          | 0/5 [00:00<?, ?it/s]"
      ]
     },
     "metadata": {},
     "output_type": "display_data"
    },
    {
     "data": {
      "application/vnd.jupyter.widget-view+json": {
       "model_id": "",
       "version_major": 2,
       "version_minor": 0
      },
      "text/plain": [
       "  0%|          | 0/10 [00:00<?, ?it/s]"
      ]
     },
     "metadata": {},
     "output_type": "display_data"
    },
    {
     "data": {
      "application/vnd.jupyter.widget-view+json": {
       "model_id": "",
       "version_major": 2,
       "version_minor": 0
      },
      "text/plain": [
       "  0%|          | 0/10 [00:00<?, ?it/s]"
      ]
     },
     "metadata": {},
     "output_type": "display_data"
    },
    {
     "data": {
      "application/vnd.jupyter.widget-view+json": {
       "model_id": "",
       "version_major": 2,
       "version_minor": 0
      },
      "text/plain": [
       "  0%|          | 0/10 [00:00<?, ?it/s]"
      ]
     },
     "metadata": {},
     "output_type": "display_data"
    },
    {
     "data": {
      "application/vnd.jupyter.widget-view+json": {
       "model_id": "",
       "version_major": 2,
       "version_minor": 0
      },
      "text/plain": [
       "  0%|          | 0/10 [00:00<?, ?it/s]"
      ]
     },
     "metadata": {},
     "output_type": "display_data"
    },
    {
     "data": {
      "application/vnd.jupyter.widget-view+json": {
       "model_id": "",
       "version_major": 2,
       "version_minor": 0
      },
      "text/plain": [
       "  0%|          | 0/10 [00:00<?, ?it/s]"
      ]
     },
     "metadata": {},
     "output_type": "display_data"
    }
   ],
   "source": [
    "continuous.run_bmds2_models()"
   ]
  },
  {
   "cell_type": "code",
   "execution_count": null,
   "id": "7efecf5d-afa4-40bb-bfe6-359ed01ba41e",
   "metadata": {},
   "outputs": [],
   "source": [
    "continuous.run_bmds3_models(\"bmds3\")"
   ]
  },
  {
   "cell_type": "markdown",
   "id": "c9cb1d24-5adb-449b-b0b1-a6d8cb051ea4",
   "metadata": {},
   "source": [
    "## Query database"
   ]
  },
  {
   "cell_type": "code",
   "execution_count": null,
   "id": "c29d0273-dd5d-451c-813c-7d8a4309a2e7",
   "metadata": {},
   "outputs": [],
   "source": [
    "len(DichotomousDataset.query.all())"
   ]
  },
  {
   "cell_type": "code",
   "execution_count": null,
   "id": "be399f17-253a-4160-9d7f-28cd9dc6d043",
   "metadata": {},
   "outputs": [],
   "source": [
    "len(ContinuousDataset.query.all())"
   ]
  },
  {
   "cell_type": "code",
   "execution_count": null,
   "id": "270a4651-23e2-4ede-923f-46d19994af9c",
   "metadata": {},
   "outputs": [],
   "source": [
    "len(DichotomousResult.query.all())"
   ]
  },
  {
   "cell_type": "code",
   "execution_count": null,
   "id": "cd96278d-3421-44cb-a917-f3ad99c20734",
   "metadata": {},
   "outputs": [],
   "source": [
    "len(ContinuousResult.query.all())"
   ]
  },
  {
   "cell_type": "code",
   "execution_count": null,
   "id": "fb0cc363-46a0-41e9-aa35-962d750fefa9",
   "metadata": {},
   "outputs": [],
   "source": [
    "ContinuousResult.query.first()"
   ]
  },
  {
   "cell_type": "code",
   "execution_count": null,
   "id": "163fa9e6-0c67-4a78-88bd-f867bed0297c",
   "metadata": {},
   "outputs": [],
   "source": [
    "len(ContinuousResult.query.filter(ContinuousResult.completed==0).all())"
   ]
  },
  {
   "cell_type": "code",
   "execution_count": null,
   "id": "998d4f02-cc5b-4e1d-8ab1-cf654559f021",
   "metadata": {},
   "outputs": [],
   "source": [
    "len(DichotomousResult.query.filter(DichotomousResult.completed==0).all())"
   ]
  },
  {
   "cell_type": "markdown",
   "id": "671a4ac1-b10c-4d9d-a78d-e7e6925aeef1",
   "metadata": {},
   "source": [
    "## Get analysis"
   ]
  },
  {
   "cell_type": "code",
   "execution_count": null,
   "id": "1d1df98b-2368-45cd-aef2-9ae7a5c51be6",
   "metadata": {},
   "outputs": [],
   "source": [
    "continuous.compare_versions(\"bmds2\",\"bmds3\",.25)"
   ]
  },
  {
   "cell_type": "code",
   "execution_count": null,
   "id": "35226aff-897b-4103-ba7e-4f15cc33662a",
   "metadata": {},
   "outputs": [],
   "source": [
    "dichotomous.compare_versions(\"bmds2\",\"bmds3\",.25)"
   ]
  },
  {
   "cell_type": "markdown",
   "id": "1c86ea6a-ac6a-4a2d-9f54-18341a968626",
   "metadata": {},
   "source": [
    "## Upload datasets"
   ]
  },
  {
   "cell_type": "code",
   "execution_count": null,
   "id": "1f1d5f56-d0d2-4132-af2a-3b77a0858d17",
   "metadata": {},
   "outputs": [],
   "source": [
    "dichotomous_datasets = pd.read_csv('../BMDS_2_7_pipeline/dichotomous_tr.csv').to_dict(\"records\")\n",
    "dichotomous.bulk_save_datasets(dichotomous_datasets)"
   ]
  },
  {
   "cell_type": "code",
   "execution_count": null,
   "id": "5095346f-2cff-40b4-8066-defefc3b572b",
   "metadata": {},
   "outputs": [],
   "source": [
    "continuous_datasets = pd.read_csv('../BMDS_2_7_pipeline/continuous_NotBW.csv').to_dict(\"records\")\n",
    "continuous.bulk_save_datasets(continuous_datasets)"
   ]
  },
  {
   "cell_type": "code",
   "execution_count": null,
   "id": "8c2218eb-1d4d-44d4-8cb7-705922ad5e78",
   "metadata": {},
   "outputs": [],
   "source": [
    "DichotomousResult.query.all().delete()"
   ]
  },
  {
   "cell_type": "code",
   "execution_count": 56,
   "id": "a60f1a41",
   "metadata": {},
   "outputs": [
    {
     "data": {
      "text/plain": [
       "70"
      ]
     },
     "execution_count": 56,
     "metadata": {},
     "output_type": "execute_result"
    }
   ],
   "source": [
    "DichotomousResult.query.delete()\n",
    "\n"
   ]
  },
  {
   "cell_type": "code",
   "execution_count": null,
   "id": "a1d1a9a0",
   "metadata": {},
   "outputs": [],
   "source": [
    "ContinuousResult.query.delete()\n"
   ]
  },
  {
   "cell_type": "code",
   "execution_count": null,
   "id": "ce3fe5da",
   "metadata": {},
   "outputs": [],
   "source": []
  }
 ],
 "metadata": {
  "kernelspec": {
   "display_name": "Python 3 (ipykernel)",
   "language": "python",
   "name": "python3"
  },
  "language_info": {
   "codemirror_mode": {
    "name": "ipython",
    "version": 3
   },
   "file_extension": ".py",
   "mimetype": "text/x-python",
   "name": "python",
   "nbconvert_exporter": "python",
   "pygments_lexer": "ipython3",
   "version": "3.8.3"
  }
 },
 "nbformat": 4,
 "nbformat_minor": 5
}
