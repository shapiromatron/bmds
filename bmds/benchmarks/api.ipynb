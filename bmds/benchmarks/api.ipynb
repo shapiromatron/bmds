{
 "cells": [
  {
   "cell_type": "code",
   "execution_count": null,
   "id": "bb606c89",
   "metadata": {},
   "outputs": [],
   "source": [
    "from main import Dataset, Versions, run_analysis\n",
    "from toxrefdb import app\n",
    "from toxrefdb.models  import DichotomousResult, ContinuousResult"
   ]
  },
  {
   "cell_type": "code",
   "execution_count": null,
   "id": "7301d4b1",
   "metadata": {},
   "outputs": [],
   "source": [
    "import pandas as pd\n",
    "from zipfile import ZipFile"
   ]
  },
  {
   "cell_type": "code",
   "execution_count": null,
   "id": "fb0cc363-46a0-41e9-aa35-962d750fefa9",
   "metadata": {},
   "outputs": [],
   "source": [
    "zf = ZipFile('../../data/toxrefdb/datasets.zip')"
   ]
  },
  {
   "cell_type": "code",
   "execution_count": null,
   "id": "163fa9e6-0c67-4a78-88bd-f867bed0297c",
   "metadata": {},
   "outputs": [],
   "source": [
    "continuous_BW  = pd.read_csv(zf.open('continuous_BW.csv'))"
   ]
  },
  {
   "cell_type": "code",
   "execution_count": null,
   "id": "409ba5c6",
   "metadata": {},
   "outputs": [],
   "source": [
    "run_analysis(\"TOXREFDB_DICH\", [\"bmds2\", \"bmds3\"], True)"
   ]
  },
  {
   "cell_type": "code",
   "execution_count": null,
   "id": "03bcefd3",
   "metadata": {},
   "outputs": [],
   "source": [
    "ContinuousResult.query.all()"
   ]
  }
 ],
 "metadata": {
  "kernelspec": {
   "display_name": "Python 3 (ipykernel)",
   "language": "python",
   "name": "python3"
  },
  "language_info": {
   "codemirror_mode": {
    "name": "ipython",
    "version": 3
   },
   "file_extension": ".py",
   "mimetype": "text/x-python",
   "name": "python",
   "nbconvert_exporter": "python",
   "pygments_lexer": "ipython3",
   "version": "3.9.7"
  }
 },
 "nbformat": 4,
 "nbformat_minor": 5
}
