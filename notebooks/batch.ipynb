{
 "cells": [
  {
   "cell_type": "markdown",
   "metadata": {},
   "source": [
    "# Save operations"
   ]
  },
  {
   "cell_type": "code",
   "execution_count": null,
   "metadata": {
    "tags": []
   },
   "outputs": [],
   "source": [
    "import json\n",
    "from pathlib import Path\n",
    "data = json.loads(Path('./data/dich_30.json').read_text())\n",
    "print(len(data))"
   ]
  },
  {
   "cell_type": "code",
   "execution_count": null,
   "metadata": {
    "tags": []
   },
   "outputs": [],
   "source": [
    "from bmds.benchmarks import BmdsSessionWrapper\n",
    "import bmds\n",
    "from bmds import constants\n",
    "from bmds.bmds3.constants import PriorClass\n",
    "from bmds.bmds3.types.dichotomous import DichotomousRiskType\n",
    "\n",
    "def build_dich_ds(ds_dict: dict):\n",
    "    if ds_dict[\"dtype\"] == constants.Dtype.DICHOTOMOUS:\n",
    "        return bmds.datasets.DichotomousDataset(\n",
    "            ds_dict[\"doses\"],\n",
    "            ds_dict[\"ns\"],\n",
    "            ds_dict[\"incidences\"],\n",
    "            **ds_dict[\"metadata\"],\n",
    "        )\n",
    "    else:\n",
    "        raise ValueError(\"Invalid dtype\")\n",
    "\n",
    "\n",
    "def build_dich_sess(ds, version):\n",
    "    def add_model(sess, Model, base: tuple, additions=None):\n",
    "        settings = {\n",
    "            \"priors\": PriorClass.frequentist_restricted,\n",
    "            \"bmr_type\": base[1],\n",
    "            \"bmr\": base[2],\n",
    "        }\n",
    "        if additions is not None:\n",
    "            settings.update(additions)\n",
    "        sess.add_model(Model, settings, base[0])\n",
    "\n",
    "    option_sets = [\n",
    "        (\"ERisk\",DichotomousRiskType.ExtraRisk, 0.1),\n",
    "        (\"ARisk\",DichotomousRiskType.AddedRisk, 0.1),\n",
    "    ]\n",
    "    sessions = []\n",
    "    for index,option_set in enumerate(option_sets):\n",
    "        sess = BmdsSessionWrapper(bmds_version=version,dataset=ds,session_name=f\"session_{ds.metadata.name}_{index}\")\n",
    "\n",
    "        # fmt: off\n",
    "        # add_model(sess, constants.M_DichotomousHill, option_set)\n",
    "        # add_model(sess, constants.M_DichotomousHill, option_set, {\"priors\": PriorClass.frequentist_unrestricted})\n",
    "        # add_model(sess, constants.M_Gamma, option_set)\n",
    "        # add_model(sess, constants.M_Gamma, option_set, {\"priors\": PriorClass.frequentist_unrestricted})\n",
    "        add_model(sess, constants.M_Logistic, option_set, {\"priors\": PriorClass.frequentist_unrestricted})\n",
    "        # add_model(sess, constants.M_LogLogistic, option_set)\n",
    "        add_model(sess, constants.M_LogLogistic, option_set, {\"priors\": PriorClass.frequentist_unrestricted})\n",
    "        # add_model(sess, constants.M_LogProbit, option_set)\n",
    "        # add_model(sess, constants.M_LogProbit, option_set, {\"priors\": PriorClass.frequentist_unrestricted})\n",
    "        # add_model(sess, constants.M_Multistage, option_set, {\"degree\": 1})\n",
    "        # add_model(sess, constants.M_Multistage, option_set, {\"degree\": 1, \"priors\": PriorClass.frequentist_unrestricted})\n",
    "        # add_model(sess, constants.M_Multistage, option_set, {\"degree\": 2})\n",
    "        # add_model(sess, constants.M_Multistage, option_set, {\"degree\": 2, \"priors\": PriorClass.frequentist_unrestricted})\n",
    "        # add_model(sess, constants.M_Multistage, option_set, {\"degree\": 3})\n",
    "        # add_model(sess, constants.M_Multistage, option_set, {\"degree\": 3, \"priors\": PriorClass.frequentist_unrestricted})\n",
    "        # add_model(sess, constants.M_Probit, option_set, {\"priors\": PriorClass.frequentist_unrestricted})\n",
    "        # add_model(sess, constants.M_QuantalLinear, option_set, {\"priors\": PriorClass.frequentist_unrestricted})\n",
    "        # add_model(sess, constants.M_Weibull, option_set)\n",
    "        # add_model(sess, constants.M_Weibull, option_set, {\"priors\": PriorClass.frequentist_unrestricted})\n",
    "        # fmt: on\n",
    "        sessions.append(sess)\n",
    "\n",
    "    return sessions\n"
   ]
  },
  {
   "cell_type": "code",
   "execution_count": null,
   "metadata": {
    "tags": []
   },
   "outputs": [],
   "source": [
    "def run_dichotomous_frequentist(ds_dicts,version):\n",
    "    dich_ds = [build_dich_ds(ds_dict) for ds_dict in ds_dicts]\n",
    "    sessions = []\n",
    "    for ds in dich_ds[:5]:\n",
    "        sessions.extend(build_dich_sess(ds,version))\n",
    "    return BmdsSessionWrapper.bulk_execute_and_recommend(sessions)\n",
    "    \n",
    "sessions = run_dichotomous_frequentist(data,constants.Version.BMDS270)"
   ]
  },
  {
   "cell_type": "code",
   "execution_count": null,
   "metadata": {},
   "outputs": [],
   "source": [
    "from bmds.benchmarks import TblSession\n",
    "sessions = [TblSession.from_bmds(session.session) for session in sessions]"
   ]
  },
  {
   "cell_type": "code",
   "execution_count": null,
   "metadata": {},
   "outputs": [],
   "source": [
    "from bmds.benchmarks import SQLSession\n",
    "with SQLSession() as session:\n",
    "    for sess in sessions:\n",
    "        session.add(sess)\n",
    "    #session.bulk_save_objects(sessions)\n",
    "    session.commit()"
   ]
  },
  {
   "cell_type": "markdown",
   "metadata": {},
   "source": [
    "# Read operations"
   ]
  },
  {
   "cell_type": "code",
   "execution_count": null,
   "metadata": {},
   "outputs": [],
   "source": [
    "from bmds.benchmarks import TblModelResultScalar, TblModel, TblSession, SQLSession\n",
    "from sqlmodel import select\n",
    "from sqlalchemy.orm import contains_eager\n",
    "statement = select(TblModelResultScalar) \\\n",
    "    .join(TblModelResultScalar.model) \\\n",
    "    .join(TblModel.session) \\\n",
    "    .options(contains_eager(TblModelResultScalar.model,TblModel.session))\n",
    "with SQLSession() as session:\n",
    "    results = session.exec(statement).unique().all()"
   ]
  },
  {
   "cell_type": "code",
   "execution_count": null,
   "metadata": {},
   "outputs": [],
   "source": [
    "import pandas as pd\n",
    "df = TblModelResultScalar.get_df(results)"
   ]
  },
  {
   "cell_type": "code",
   "execution_count": null,
   "metadata": {},
   "outputs": [],
   "source": [
    "len(df)"
   ]
  },
  {
   "cell_type": "code",
   "execution_count": null,
   "metadata": {},
   "outputs": [],
   "source": [
    "import plotly.express as px\n",
    "fig = px.scatter(df, y=\"value\", x=\"attribute\", color=\"model_name\")\n",
    "fig.show()"
   ]
  }
 ],
 "metadata": {
  "kernelspec": {
   "display_name": "Python 3 (ipykernel)",
   "language": "python",
   "name": "python3"
  },
  "language_info": {
   "codemirror_mode": {
    "name": "ipython",
    "version": 3
   },
   "file_extension": ".py",
   "mimetype": "text/x-python",
   "name": "python",
   "nbconvert_exporter": "python",
   "pygments_lexer": "ipython3",
   "version": "3.11.3"
  }
 },
 "nbformat": 4,
 "nbformat_minor": 4
}
