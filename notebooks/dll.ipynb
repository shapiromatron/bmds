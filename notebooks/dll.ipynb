{
 "cells": [
  {
   "cell_type": "code",
   "execution_count": null,
   "metadata": {},
   "outputs": [],
   "source": [
    "!whoami"
   ]
  },
  {
   "cell_type": "code",
   "execution_count": null,
   "metadata": {},
   "outputs": [],
   "source": [
    "import ctypes\n",
    "import os\n",
    "from pathlib import Path"
   ]
  },
  {
   "cell_type": "code",
   "execution_count": null,
   "metadata": {},
   "outputs": [],
   "source": [
    "path = Path(\"/usr/local/lib/libDRBMD.0.dylib\")\n",
    "assert path.exists()"
   ]
  },
  {
   "cell_type": "code",
   "execution_count": null,
   "metadata": {},
   "outputs": [],
   "source": [
    "assert os.environ.get(\"DYLD_LIBRARY_PATH\") is None\n",
    "assert os.environ.get(\"RPATH\") is None\n",
    "assert os.environ.get(\"DYLD_FALLBACK_LIBRARY_PATH\") is None"
   ]
  },
  {
   "cell_type": "code",
   "execution_count": null,
   "metadata": {},
   "outputs": [],
   "source": [
    "!otool -L /usr/local/lib/libDRBMD.0.dylib"
   ]
  },
  {
   "cell_type": "code",
   "execution_count": null,
   "metadata": {},
   "outputs": [],
   "source": [
    "dll = ctypes.cdll.LoadLibrary(str(path))"
   ]
  },
  {
   "cell_type": "code",
   "execution_count": null,
   "metadata": {},
   "outputs": [],
   "source": [
    "import ctypes\n",
    "from enum import IntEnum\n",
    "from typing import Any, List\n",
    "\n",
    "from pydantic import BaseModel"
   ]
  },
  {
   "cell_type": "code",
   "execution_count": null,
   "metadata": {},
   "outputs": [],
   "source": [
    "\n",
    "def _list_to_c(list: List[Any], ctype):\n",
    "    return (ctype * len(list))(*list)\n",
    "\n",
    "\n",
    "def _expand_column_order(flat_list: List[Any], ncols: int):\n",
    "    return [flat_list[i::ncols] for i in range(ncols)]\n",
    "\n",
    "\n",
    "class DichModel(IntEnum):\n",
    "    d_hill = 1\n",
    "    d_gamma = 2\n",
    "    d_logistic = 3\n",
    "    d_loglogistic = 4\n",
    "    d_logprobit = 5\n",
    "    d_multistage = 6\n",
    "    d_probit = 7\n",
    "    d_qlinear = 8\n",
    "    d_weibull = 9\n",
    "    \n",
    "class DichotomousAnalysis(BaseModel):\n",
    "    \"\"\"\n",
    "    Purpose - Contains all of the information for a dichotomous analysis.\n",
    "    It is used do describe a single model analysis, in which all of the\n",
    "    informationis used, or a MA analysis, in which all the information\n",
    "    save prior, degree, parms and prior_cols are used.\n",
    "    \"\"\"\n",
    "\n",
    "    model: int\n",
    "    n: int\n",
    "    Y: List[float]\n",
    "    doses: List[float]\n",
    "    n_group: List[float]\n",
    "    prior: List[float]\n",
    "    BMD_type: int\n",
    "    BMR: float\n",
    "    alpha: float\n",
    "    degree: int\n",
    "    samples: int\n",
    "    burnin: int\n",
    "    parms: int\n",
    "    prior_cols: int\n",
    "\n",
    "    class Struct(ctypes.Structure):\n",
    "\n",
    "        _fields_ = [\n",
    "            (\"model\", ctypes.c_int),  # Model Type as listed in DichModel\n",
    "            (\"n\", ctypes.c_int),  # total number of observations obs/n\n",
    "            (\"Y\", ctypes.POINTER(ctypes.c_double)),  # observed +\n",
    "            (\"doses\", ctypes.POINTER(ctypes.c_double)),\n",
    "            (\"n_group\", ctypes.POINTER(ctypes.c_double)),  # size of the group\n",
    "            (\"prior\", ctypes.POINTER(ctypes.c_double)),  # a column order matrix parms X prior_cols\n",
    "            (\"BMD_type\", ctypes.c_int),  # 1 = extra ; added otherwise\n",
    "            (\"BMR\", ctypes.c_double),\n",
    "            (\"alpha\", ctypes.c_double),  # alpha of the analysis\n",
    "            (\"degree\", ctypes.c_int),  # degree of polynomial used only multistage\n",
    "            (\"samples\", ctypes.c_int),  # number of MCMC samples\n",
    "            (\"burnin\", ctypes.c_int),  # size of burnin\n",
    "            (\"parms\", ctypes.c_int),  # number of parameters in the model\n",
    "            (\"prior_cols\", ctypes.c_int),  # columns in the prior\n",
    "        ]\n",
    "\n",
    "    def to_c(self):\n",
    "        return self.Struct(\n",
    "            model=ctypes.c_int(self.model),\n",
    "            n=ctypes.c_int(self.n),\n",
    "            Y=_list_to_c(self.Y, ctypes.c_double),\n",
    "            doses=_list_to_c(self.doses, ctypes.c_double),\n",
    "            n_group=_list_to_c(self.n_group, ctypes.c_double),\n",
    "            prior=_list_to_c(self.prior, ctypes.c_double),\n",
    "            BMD_type=ctypes.c_int(self.BMD_type),\n",
    "            BMR=ctypes.c_double(self.BMR),\n",
    "            alpha=ctypes.c_double(self.alpha),\n",
    "            degree=ctypes.c_int(self.degree),\n",
    "            samples=ctypes.c_int(self.samples),\n",
    "            burnin=ctypes.c_int(self.burnin),\n",
    "            parms=ctypes.c_int(self.parms),\n",
    "            prior_cols=ctypes.c_int(self.prior_cols),\n",
    "        )\n",
    "    \n",
    "    \n",
    "doses=[0, 50, 100, 150, 200]\n",
    "Y=[0, 5, 30, 65, 90]\n",
    "n_group=[100, 100, 100, 100, 100]\n",
    "prior = [1. ,2. , 0., 0.1, 2., 1., -20., 1e-12, 20., 100.]\n",
    "prior_cols=5\n",
    "parms = len(prior)/prior_cols\n",
    "da = DichotomousAnalysis(\n",
    "    model=DichModel.d_logistic.value,\n",
    "    n=len(n_group),\n",
    "    Y=Y,\n",
    "    doses=doses,\n",
    "    n_group=n_group,\n",
    "    prior=prior,\n",
    "    BMD_type=1,\n",
    "    BMR=0.1,\n",
    "    alpha=0.05,\n",
    "    degree=parms-1, \n",
    "    samples=100,\n",
    "    burnin=20,\n",
    "    parms=parms,\n",
    "    prior_cols=prior_cols,    \n",
    ")\n",
    "\n",
    "da_struct = da.to_c()"
   ]
  },
  {
   "cell_type": "code",
   "execution_count": null,
   "metadata": {},
   "outputs": [],
   "source": [
    "class DichotomousModelResult(BaseModel):\n",
    "    \"\"\"\n",
    "    Purpose: Data structure that is populated with all of the necessary\n",
    "    information for a single model fit.\n",
    "    \"\"\"\n",
    "\n",
    "    model: int\n",
    "    nparms: int\n",
    "    dist_numE: int    \n",
    "\n",
    "    class Struct(ctypes.Structure):\n",
    "\n",
    "        _fields_ = [\n",
    "            (\"model\", ctypes.c_int),  # dichotomous model specification\n",
    "            (\"nparms\", ctypes.c_int),  # number of parameters in the model\n",
    "            (\"parms\", ctypes.POINTER(ctypes.c_double)),  # parameter estimate\n",
    "            (\"cov\", ctypes.POINTER(ctypes.c_double)),  # covariance estimate\n",
    "            (\"max\", ctypes.c_double),  # value of the likelihood/posterior at the maximum\n",
    "            (\"dist_numE\", ctypes.c_int),  # number of entries in rows for the bmd_dist\n",
    "            (\"model_df\", ctypes.c_double),  # Used model degrees of freedom\n",
    "            (\"total_df\", ctypes.c_double),  # Total degrees of freedom\n",
    "            (\n",
    "                \"bmd_dist\",\n",
    "                ctypes.POINTER(ctypes.c_double),\n",
    "            ),  # bmd distribution (dist_numE x 2) matrix\n",
    "        ]\n",
    "\n",
    "    def to_c(self):\n",
    "        return self.Struct(\n",
    "            model=ctypes.c_int(self.model),\n",
    "            nparms=ctypes.c_int(self.nparms),\n",
    "            parms=_list_to_c([0] * self.nparms, ctypes.c_double),\n",
    "            cov=_list_to_c([0] * (self.nparms ** 2), ctypes.c_double),\n",
    "            dist_numE=ctypes.c_int(self.dist_numE),\n",
    "            bmd_dist=_list_to_c([0] * (self.dist_numE * 2) , ctypes.c_double),\n",
    "        )\n",
    "\n",
    "da_res = DichotomousModelResult(\n",
    "    model=DichModel.d_logistic.value,\n",
    "    nparms=parms,\n",
    "    dist_numE=200\n",
    ")\n",
    "da_res_struct = da_res.to_c()"
   ]
  },
  {
   "cell_type": "code",
   "execution_count": null,
   "metadata": {},
   "outputs": [],
   "source": [
    "dll.estimate_sm_laplace_dicho(\n",
    "    ctypes.pointer(da_struct), \n",
    "    ctypes.pointer(da_res_struct),\n",
    "    True\n",
    ")"
   ]
  },
  {
   "cell_type": "code",
   "execution_count": null,
   "metadata": {},
   "outputs": [],
   "source": [
    "da_res_struct.max"
   ]
  },
  {
   "cell_type": "code",
   "execution_count": null,
   "metadata": {},
   "outputs": [],
   "source": [
    "import numpy as np"
   ]
  },
  {
   "cell_type": "code",
   "execution_count": null,
   "metadata": {},
   "outputs": [],
   "source": [
    "np.array(da_res_struct.cov[:4]).reshape(2,2)"
   ]
  },
  {
   "cell_type": "code",
   "execution_count": null,
   "metadata": {},
   "outputs": [],
   "source": [
    "np.array(da_res_struct.bmd_dist[:400]).reshape(200,2)"
   ]
  },
  {
   "cell_type": "code",
   "execution_count": null,
   "metadata": {},
   "outputs": [],
   "source": []
  }
 ],
 "metadata": {
  "kernelspec": {
   "display_name": "Python 3",
   "language": "python",
   "name": "python3"
  },
  "language_info": {
   "codemirror_mode": {
    "name": "ipython",
    "version": 3
   },
   "file_extension": ".py",
   "mimetype": "text/x-python",
   "name": "python",
   "nbconvert_exporter": "python",
   "pygments_lexer": "ipython3",
   "version": "3.6.10"
  }
 },
 "nbformat": 4,
 "nbformat_minor": 4
}
