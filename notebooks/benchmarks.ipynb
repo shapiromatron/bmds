{
 "cells": [
  {
   "cell_type": "markdown",
   "metadata": {},
   "source": [
    "## BMDS benchmarks tooling\n",
    "\n",
    "Last updated: *2023-08-08*\n",
    "\n",
    "The Python BMDS package has an benchmarks package to make it easier to store results from multiple operating systems and versions of the software. This tooling is used as part of our software development lifecycle to better understand the final impact of changes to the software.  This notebook demonstrates using the benchmarks package to store and retrieve results."
   ]
  },
  {
   "cell_type": "markdown",
   "metadata": {},
   "source": [
    "## Executing an session in batch mode\n",
    "\n",
    "A general approach taken would be execute the same suite of datasets across multiple versions of the software and/or environments. This will demonstrate using the back mode in this form."
   ]
  },
  {
   "cell_type": "code",
   "execution_count": null,
   "metadata": {
    "tags": []
   },
   "outputs": [],
   "source": [
    "import json\n",
    "from pathlib import Path\n",
    "\n",
    "data = json.loads(Path(\"./data/dich_30.json\").read_text())\n",
    "print(len(data))"
   ]
  },
  {
   "cell_type": "code",
   "execution_count": null,
   "metadata": {
    "tags": []
   },
   "outputs": [],
   "source": [
    "import bmds\n",
    "from bmds import constants\n",
    "from bmds.bmds3.constants import PriorClass\n",
    "from bmds.bmds3.types.dichotomous import DichotomousRiskType\n",
    "from bmds.benchmarks import BmdsSessionWrapper, TblSession\n",
    "\n",
    "def build_dichotomous_dataset(ds_dict: dict) -> bmds.datasets.DichotomousDataset:\n",
    "    if ds_dict[\"dtype\"] == constants.Dtype.DICHOTOMOUS:\n",
    "        return bmds.datasets.DichotomousDataset(\n",
    "            ds_dict[\"doses\"],\n",
    "            ds_dict[\"ns\"],\n",
    "            ds_dict[\"incidences\"],\n",
    "            **ds_dict[\"metadata\"],\n",
    "        )\n",
    "    else:\n",
    "        raise ValueError(\"Invalid dtype\")\n",
    "\n",
    "\n",
    "def build_dich_session(ds, version):\n",
    "    def add_model(sess, Model, base: tuple, additions=None):\n",
    "        settings = {\n",
    "            \"id\": base[0],\n",
    "            \"priors\": PriorClass.frequentist_restricted,\n",
    "            \"bmr_type\": base[1],\n",
    "            \"bmr\": base[2],\n",
    "        }\n",
    "        if additions is not None:\n",
    "            settings.update(additions)\n",
    "        sess.add_model(Model, settings, base[0])\n",
    "\n",
    "    option_sets = [\n",
    "        (r\"10% Extra Risk\", DichotomousRiskType.ExtraRisk, 0.1),\n",
    "        (r\"10% Added Risk\", DichotomousRiskType.AddedRisk, 0.1),\n",
    "    ]\n",
    "    sessions = []\n",
    "    for index, option_set in enumerate(option_sets):\n",
    "        sess = BmdsSessionWrapper(\n",
    "            bmds_version=version, dataset=ds, session_name=f\"session_{ds.metadata.name}_{index}\"\n",
    "        )\n",
    "\n",
    "        # fmt: off\n",
    "        # add_model(sess, constants.M_DichotomousHill, option_set)\n",
    "        # add_model(sess, constants.M_DichotomousHill, option_set, {\"priors\": PriorClass.frequentist_unrestricted})\n",
    "        # add_model(sess, constants.M_Gamma, option_set)\n",
    "        # add_model(sess, constants.M_Gamma, option_set, {\"priors\": PriorClass.frequentist_unrestricted})\n",
    "        add_model(sess, constants.M_Logistic, option_set, {\"priors\": PriorClass.frequentist_unrestricted})\n",
    "        # add_model(sess, constants.M_LogLogistic, option_set)\n",
    "        add_model(sess, constants.M_LogLogistic, option_set, {\"priors\": PriorClass.frequentist_unrestricted})\n",
    "        # add_model(sess, constants.M_LogProbit, option_set)\n",
    "        # add_model(sess, constants.M_LogProbit, option_set, {\"priors\": PriorClass.frequentist_unrestricted})\n",
    "        # add_model(sess, constants.M_Multistage, option_set, {\"degree\": 1})\n",
    "        # add_model(sess, constants.M_Multistage, option_set, {\"degree\": 1, \"priors\": PriorClass.frequentist_unrestricted})\n",
    "        # add_model(sess, constants.M_Multistage, option_set, {\"degree\": 2})\n",
    "        # add_model(sess, constants.M_Multistage, option_set, {\"degree\": 2, \"priors\": PriorClass.frequentist_unrestricted})\n",
    "        # add_model(sess, constants.M_Multistage, option_set, {\"degree\": 3})\n",
    "        # add_model(sess, constants.M_Multistage, option_set, {\"degree\": 3, \"priors\": PriorClass.frequentist_unrestricted})\n",
    "        # add_model(sess, constants.M_Probit, option_set, {\"priors\": PriorClass.frequentist_unrestricted})\n",
    "        # add_model(sess, constants.M_QuantalLinear, option_set, {\"priors\": PriorClass.frequentist_unrestricted})\n",
    "        # add_model(sess, constants.M_Weibull, option_set)\n",
    "        # add_model(sess, constants.M_Weibull, option_set, {\"priors\": PriorClass.frequentist_unrestricted})\n",
    "        # fmt: on\n",
    "        sessions.append(sess)\n",
    "\n",
    "    return sessions\n"
   ]
  },
  {
   "cell_type": "markdown",
   "metadata": {},
   "source": [
    "Execute the analysis:"
   ]
  },
  {
   "cell_type": "code",
   "execution_count": null,
   "metadata": {
    "tags": []
   },
   "outputs": [],
   "source": [
    "def run_dichotomous_frequentist(ds_dicts, version):\n",
    "    dich_ds = [build_dichotomous_dataset(ds_dict) for ds_dict in ds_dicts]\n",
    "    sessions = []\n",
    "    for ds in dich_ds[:5]:\n",
    "        sessions.extend(build_dich_session(ds, version))\n",
    "    return BmdsSessionWrapper.bulk_execute_and_recommend(sessions)\n",
    "\n",
    "sessions = run_dichotomous_frequentist(data, constants.Version.BMDS330)"
   ]
  },
  {
   "cell_type": "markdown",
   "metadata": {},
   "source": [
    "Format data for adding to the database:"
   ]
  },
  {
   "cell_type": "code",
   "execution_count": null,
   "metadata": {},
   "outputs": [],
   "source": [
    "\n"
   ]
  },
  {
   "cell_type": "markdown",
   "metadata": {},
   "source": [
    "Write outputs to the database:"
   ]
  },
  {
   "cell_type": "code",
   "execution_count": null,
   "metadata": {},
   "outputs": [],
   "source": [
    "def insert_results(sessions):\n",
    "    results = [TblSession.from_bmds(session.session) for session in sessions]\n",
    "    with SQLSession() as conn:\n",
    "        for result in results:\n",
    "            conn.add(result)\n",
    "        conn.commit()\n",
    "\n",
    "insert_results(sessions)"
   ]
  },
  {
   "cell_type": "markdown",
   "metadata": {},
   "source": [
    "## Querying the benchmarks database\n",
    "\n",
    "After results have been executed, we can query the database to fetch results."
   ]
  },
  {
   "cell_type": "code",
   "execution_count": null,
   "metadata": {},
   "outputs": [],
   "source": [
    "from bmds.benchmarks import TblModelResultScalar, TblModel, TblSession, SQLSession\n",
    "from sqlmodel import select\n",
    "from sqlalchemy.orm import contains_eager\n",
    "\n",
    "statement = (\n",
    "    select(TblModelResultScalar)\n",
    "    .join(TblModelResultScalar.model)\n",
    "    .join(TblModel.session)\n",
    "    .options(contains_eager(TblModelResultScalar.model, TblModel.session))\n",
    ")\n",
    "with SQLSession() as session:\n",
    "    results = session.exec(statement).unique().all()"
   ]
  },
  {
   "cell_type": "code",
   "execution_count": null,
   "metadata": {},
   "outputs": [],
   "source": [
    "import pandas as pd\n",
    "\n",
    "df = TblModelResultScalar.get_df(results)"
   ]
  },
  {
   "cell_type": "code",
   "execution_count": null,
   "metadata": {},
   "outputs": [],
   "source": [
    "len(df)\n"
   ]
  },
  {
   "cell_type": "code",
   "execution_count": null,
   "metadata": {},
   "outputs": [],
   "source": [
    "import plotly.express as px\n",
    "\n",
    "fig = px.scatter(df, y=\"value\", x=\"attribute\", color=\"model_name\")\n",
    "fig.show()"
   ]
  }
 ],
 "metadata": {
  "kernelspec": {
   "display_name": "Python 3 (ipykernel)",
   "language": "python",
   "name": "python3"
  },
  "language_info": {
   "codemirror_mode": {
    "name": "ipython",
    "version": 3
   },
   "file_extension": ".py",
   "mimetype": "text/x-python",
   "name": "python",
   "nbconvert_exporter": "python",
   "pygments_lexer": "ipython3",
   "version": "3.11.3"
  }
 },
 "nbformat": 4,
 "nbformat_minor": 4
}
