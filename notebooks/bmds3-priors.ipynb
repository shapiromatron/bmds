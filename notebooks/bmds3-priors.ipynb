{
 "cells": [
  {
   "cell_type": "markdown",
   "id": "f9c779bb-0d2f-4f05-b274-fdbce53b4b8e",
   "metadata": {},
   "source": [
    "# BMDS3 priors\n",
    "\n",
    "This is designed to generate a report which can be used for QA/QC to ensure that defaults prior settings are appropriately set for each model in BMDS. \n",
    "\n",
    "For dichotomous models these are fairly straightforward defaults that are pulled out of a `priors.csv` file.\n",
    "\n",
    "For continuous models the prior values can change depending on other settings for model exeuction (for example, if response values are increasing/decreasing, distribution variance model (constant/modeled variance/lognormal)."
   ]
  },
  {
   "cell_type": "code",
   "execution_count": 1,
   "id": "eb35acc8-ac57-454a-912b-0ad7c18dd8ec",
   "metadata": {},
   "outputs": [],
   "source": [
    "from IPython.core.display import HTML, display\n",
    "\n",
    "import bmds\n",
    "from bmds.bmds3.constants import ContinuousModelIds, DistType, PriorClass\n",
    "from bmds.bmds3.models import dichotomous, continuous\n",
    "from bmds.bmds3.types.continuous import ContinuousModelSettings\n",
    "from bmds.bmds3.types.priors import PriorClass, get_continuous_prior, get_dichotomous_prior"
   ]
  },
  {
   "cell_type": "code",
   "execution_count": 2,
   "id": "0fc883d9-90e0-453b-82d5-4b6802e367d1",
   "metadata": {},
   "outputs": [],
   "source": [
    "# mock data\n",
    "c_ds = bmds.ContinuousDataset(\n",
    "    doses=[0, 10, 50, 150, 400],\n",
    "    ns=[10, 10, 10, 10, 10],\n",
    "    means=[10, 20, 30, 40, 50],\n",
    "    stdevs=[1, 2, 3, 4, 5],\n",
    ")"
   ]
  },
  {
   "cell_type": "code",
   "execution_count": 3,
   "id": "469677ef-1672-4042-809f-09a627372161",
   "metadata": {},
   "outputs": [],
   "source": [
    "from bmds.bmds3.constants import DistType, PriorClass\n",
    "\n",
    "def print_d_model(model, restrict):\n",
    "    display(HTML(f'<h3>{model.bmd_model_class.verbose}</h3>'))\n",
    "    print(get_dichotomous_prior(model.bmd_model_class, PriorClass.frequentist_unrestricted))\n",
    "    if restrict:\n",
    "        print(get_dichotomous_prior(model.bmd_model_class, PriorClass.frequentist_restricted))\n",
    "    print(get_dichotomous_prior(model.bmd_model_class, PriorClass.bayesian))\n",
    "\n",
    "def print_c_model(model, restrict):\n",
    "    display(HTML(f'<h3>{model.bmd_model_class.verbose}</h3>'))\n",
    "    print(get_continuous_prior(model.bmd_model_class, PriorClass.frequentist_unrestricted))\n",
    "    if restrict:\n",
    "        print(get_continuous_prior(model.bmd_model_class, PriorClass.frequentist_restricted))\n",
    "    print(get_continuous_prior(model.bmd_model_class, PriorClass.bayesian))\n",
    "\n",
    "def print_custom_c_settings(Model, settings):\n",
    "    display(HTML(f'<h3>{Model.bmd_model_class.verbose}</h3>'))\n",
    "    for setting_set in settings:\n",
    "        print(setting_set)\n",
    "        print(Model(c_ds, setting_set).settings.priors)"
   ]
  },
  {
   "cell_type": "code",
   "execution_count": 4,
   "id": "678e4517-02d8-4dbe-be29-6bae5af836de",
   "metadata": {},
   "outputs": [
    {
     "data": {
      "text/html": [
       "<h2>Continuous</h2>"
      ],
      "text/plain": [
       "<IPython.core.display.HTML object>"
      ]
     },
     "metadata": {},
     "output_type": "display_data"
    },
    {
     "data": {
      "text/html": [
       "<h3>Power</h3>"
      ],
      "text/plain": [
       "<IPython.core.display.HTML object>"
      ]
     },
     "metadata": {},
     "output_type": "display_data"
    },
    {
     "name": "stdout",
     "output_type": "stream",
     "text": [
      "Frequentist unrestricted <0>\n",
      "| param | type       |    initial |      stdev |        min |        max |\n",
      "| g     | Uniform      |          0 |          0 |      1e-08 |      1e+08 |\n",
      "| v     | Uniform      |          0 |          0 |     -1e+08 |      1e+08 |\n",
      "| n     | Uniform      |          0 |          0 |      1e-08 |        100 |\n",
      "| rho   | Uniform      |          0 |          0 |     -1e+03 |      1e+03 |\n",
      "| alpha | Uniform      |          0 |          0 |     -1e+03 |      1e+03 |\n",
      "\n",
      "Frequentist restricted <1>\n",
      "| param | type       |    initial |      stdev |        min |        max |\n",
      "| g     | Uniform      |          0 |          0 |      1e-08 |      1e+08 |\n",
      "| v     | Uniform      |          0 |          0 |     -1e+08 |      1e+08 |\n",
      "| n     | Uniform      |          0 |          0 |          1 |        100 |\n",
      "| rho   | Uniform      |          0 |          0 |     -1e+03 |      1e+03 |\n",
      "| alpha | Uniform      |          0 |          0 |     -1e+03 |      1e+03 |\n",
      "\n",
      "Bayesian <2>\n",
      "| param | type       |    initial |      stdev |        min |        max |\n",
      "| g     | Lognormal |          0 |          1 |          0 |      1e+06 |\n",
      "| v     | Normal    |          0 |          1 |     -1e+04 |      1e+04 |\n",
      "| n     | Lognormal |      0.405 |        0.5 |          0 |         40 |\n",
      "| rho   | Lognormal |          0 |       0.25 |          0 |         18 |\n",
      "| alpha | Normal    |          0 |          1 |        -18 |         18 |\n",
      "\n"
     ]
    },
    {
     "data": {
      "text/html": [
       "<h3>Polynomial</h3>"
      ],
      "text/plain": [
       "<IPython.core.display.HTML object>"
      ]
     },
     "metadata": {},
     "output_type": "display_data"
    },
    {
     "name": "stdout",
     "output_type": "stream",
     "text": [
      "{'is_increasing': True, 'priors': <PriorClass.frequentist_restricted: 1>}\n",
      "Frequentist restricted <1>\n",
      "| param | type       |    initial |      stdev |        min |        max |\n",
      "| g     | Uniform      |          0 |          0 |     -1e+08 |      1e+08 |\n",
      "| beta1 | Uniform      |          0 |          0 |          0 |      1e+08 |\n",
      "| betaN | Uniform      |          0 |          0 |          0 |      1e+08 |\n",
      "| rho   | Uniform      |          0 |          0 |     -1e+03 |      1e+03 |\n",
      "| alpha | Uniform      |          0 |          0 |          0 |      1e+08 |\n",
      "\n",
      "{'is_increasing': False, 'priors': <PriorClass.frequentist_restricted: 1>}\n",
      "Frequentist restricted <1>\n",
      "| param | type       |    initial |      stdev |        min |        max |\n",
      "| g     | Uniform      |          0 |          0 |     -1e+08 |      1e+08 |\n",
      "| beta1 | Uniform      |          0 |          0 |     -1e+08 |          0 |\n",
      "| betaN | Uniform      |          0 |          0 |     -1e+08 |          0 |\n",
      "| rho   | Uniform      |          0 |          0 |     -1e+03 |      1e+03 |\n",
      "| alpha | Uniform      |          0 |          0 |     -1e+08 |          0 |\n",
      "\n",
      "{'is_increasing': True, 'priors': <PriorClass.frequentist_unrestricted: 0>}\n",
      "Frequentist unrestricted <0>\n",
      "| param | type       |    initial |      stdev |        min |        max |\n",
      "| g     | Uniform      |          0 |          0 |     -1e+08 |      1e+08 |\n",
      "| beta1 | Uniform      |          0 |          0 |     -1e+08 |      1e+08 |\n",
      "| betaN | Uniform      |          0 |          0 |     -1e+08 |      1e+08 |\n",
      "| rho   | Uniform      |          0 |          0 |     -1e+03 |      1e+03 |\n",
      "| alpha | Uniform      |          0 |          0 |     -1e+08 |      1e+08 |\n",
      "\n",
      "{'is_increasing': False, 'priors': <PriorClass.frequentist_unrestricted: 0>}\n",
      "Frequentist unrestricted <0>\n",
      "| param | type       |    initial |      stdev |        min |        max |\n",
      "| g     | Uniform      |          0 |          0 |     -1e+08 |      1e+08 |\n",
      "| beta1 | Uniform      |          0 |          0 |     -1e+08 |      1e+08 |\n",
      "| betaN | Uniform      |          0 |          0 |     -1e+08 |      1e+08 |\n",
      "| rho   | Uniform      |          0 |          0 |     -1e+03 |      1e+03 |\n",
      "| alpha | Uniform      |          0 |          0 |     -1e+08 |      1e+08 |\n",
      "\n",
      "{'priors': <PriorClass.bayesian: 2>}\n",
      "Bayesian <2>\n",
      "| param | type       |    initial |      stdev |        min |        max |\n",
      "| g     | Lognormal |          0 |          1 |          0 |      1e+06 |\n",
      "| beta1 | Lognormal |          0 |          1 |     -1e+04 |      1e+04 |\n",
      "| betaN | Normal    |          0 |          2 |     -1e+04 |      1e+04 |\n",
      "| rho   | Lognormal |          0 |       0.25 |          0 |         18 |\n",
      "| alpha | Normal    |          0 |          1 |        -18 |         18 |\n",
      "\n"
     ]
    },
    {
     "data": {
      "text/html": [
       "<h3>ExponentialM3</h3>"
      ],
      "text/plain": [
       "<IPython.core.display.HTML object>"
      ]
     },
     "metadata": {},
     "output_type": "display_data"
    },
    {
     "name": "stdout",
     "output_type": "stream",
     "text": [
      "{'is_increasing': True, 'priors': <PriorClass.frequentist_restricted: 1>}\n",
      "Frequentist restricted <1>\n",
      "| param | type       |    initial |      stdev |        min |        max |\n",
      "| a     | Uniform      |          0 |          0 |          0 |      1e+06 |\n",
      "| b     | Uniform      |          0 |          0 |          0 |        100 |\n",
      "| c     | Uniform      |          0 |          0 |          0 |         18 |\n",
      "| d     | Uniform      |          0 |          0 |          1 |         18 |\n",
      "| rho   | Uniform      |          0 |          0 |        -18 |         18 |\n",
      "| alpha | Uniform      |          0 |          0 |        -18 |         18 |\n",
      "\n",
      "{'is_increasing': False, 'priors': <PriorClass.frequentist_restricted: 1>}\n",
      "Frequentist restricted <1>\n",
      "| param | type       |    initial |      stdev |        min |        max |\n",
      "| a     | Uniform      |          0 |          0 |          0 |      1e+06 |\n",
      "| b     | Uniform      |          0 |          0 |          0 |        100 |\n",
      "| c     | Uniform      |          0 |          0 |        -18 |          0 |\n",
      "| d     | Uniform      |          0 |          0 |          1 |         18 |\n",
      "| rho   | Uniform      |          0 |          0 |        -18 |         18 |\n",
      "| alpha | Uniform      |          0 |          0 |        -18 |         18 |\n",
      "\n",
      "{'priors': <PriorClass.bayesian: 2>}\n",
      "Bayesian <2>\n",
      "| param | type       |    initial |      stdev |        min |        max |\n",
      "| a     | Lognormal |          0 |          1 |          0 |      1e+06 |\n",
      "| b     | Lognormal |          0 |          1 |          0 |        100 |\n",
      "| c     | Normal    |          0 |          1 |        -20 |         20 |\n",
      "| d     | Lognormal |          0 |       0.25 |          0 |         18 |\n",
      "| rho   | Lognormal |          0 |        0.5 |          0 |         18 |\n",
      "| alpha | Normal    |          0 |          1 |        -18 |         18 |\n",
      "\n"
     ]
    },
    {
     "data": {
      "text/html": [
       "<h3>ExponentialM5</h3>"
      ],
      "text/plain": [
       "<IPython.core.display.HTML object>"
      ]
     },
     "metadata": {},
     "output_type": "display_data"
    },
    {
     "name": "stdout",
     "output_type": "stream",
     "text": [
      "{'is_increasing': True, 'priors': <PriorClass.frequentist_restricted: 1>}\n",
      "Frequentist restricted <1>\n",
      "| param | type       |    initial |      stdev |        min |        max |\n",
      "| a     | Uniform      |          0 |          0 |          0 |      1e+06 |\n",
      "| b     | Uniform      |          0 |          0 |          0 |        100 |\n",
      "| c     | Uniform      |          0 |          0 |          0 |         18 |\n",
      "| d     | Uniform      |          0 |          0 |          1 |         18 |\n",
      "| rho   | Uniform      |          0 |          0 |        -18 |         18 |\n",
      "| alpha | Uniform      |          0 |          0 |        -18 |         18 |\n",
      "\n",
      "{'is_increasing': False, 'priors': <PriorClass.frequentist_restricted: 1>}\n",
      "Frequentist restricted <1>\n",
      "| param | type       |    initial |      stdev |        min |        max |\n",
      "| a     | Uniform      |          0 |          0 |          0 |      1e+06 |\n",
      "| b     | Uniform      |          0 |          0 |          0 |        100 |\n",
      "| c     | Uniform      |          0 |          0 |        -18 |          0 |\n",
      "| d     | Uniform      |          0 |          0 |          1 |         18 |\n",
      "| rho   | Uniform      |          0 |          0 |        -18 |         18 |\n",
      "| alpha | Uniform      |          0 |          0 |        -18 |         18 |\n",
      "\n",
      "{'priors': <PriorClass.bayesian: 2>}\n",
      "Bayesian <2>\n",
      "| param | type       |    initial |      stdev |        min |        max |\n",
      "| a     | Lognormal |          0 |          1 |          0 |      1e+06 |\n",
      "| b     | Lognormal |          0 |          1 |          0 |        100 |\n",
      "| c     | Normal    |          0 |          1 |        -20 |         20 |\n",
      "| d     | Lognormal |          0 |       0.25 |          0 |         18 |\n",
      "| rho   | Lognormal |          0 |        0.5 |          0 |         18 |\n",
      "| alpha | Normal    |          0 |          1 |        -18 |         18 |\n",
      "\n"
     ]
    },
    {
     "data": {
      "text/html": [
       "<h3>Hill</h3>"
      ],
      "text/plain": [
       "<IPython.core.display.HTML object>"
      ]
     },
     "metadata": {},
     "output_type": "display_data"
    },
    {
     "name": "stdout",
     "output_type": "stream",
     "text": [
      "{'disttype': <DistType.normal: 1>, 'prior': <PriorClass.frequentist_restricted: 1>}\n",
      "Frequentist restricted <1>\n",
      "| param | type       |    initial |      stdev |        min |        max |\n",
      "| g     | Uniform      |          0 |          0 |     -1e+08 |      1e+08 |\n",
      "| v     | Uniform      |          0 |          0 |     -1e+08 |      1e+08 |\n",
      "| k     | Uniform      |          0 |          0 |          0 |         30 |\n",
      "| n     | Uniform      |          0 |          0 |          1 |         18 |\n",
      "| rho   | Uniform      |          0 |          0 |     -1e+03 |      1e+03 |\n",
      "| alpha | Uniform      |          0 |          0 |     -1e+03 |      1e+03 |\n",
      "\n",
      "{'disttype': <DistType.normal_ncv: 2>, 'prior': <PriorClass.frequentist_restricted: 1>}\n",
      "Frequentist restricted <1>\n",
      "| param | type       |    initial |      stdev |        min |        max |\n",
      "| g     | Uniform      |          0 |          0 |     -1e+08 |      1e+08 |\n",
      "| v     | Uniform      |          0 |          0 |     -1e+03 |      1e+03 |\n",
      "| k     | Uniform      |          0 |          0 |          0 |         30 |\n",
      "| n     | Uniform      |          0 |          0 |          1 |         18 |\n",
      "| rho   | Uniform      |          0 |          0 |     -1e+03 |      1e+03 |\n",
      "| alpha | Uniform      |          0 |          0 |     -1e+03 |      1e+03 |\n",
      "\n",
      "{'disttype': <DistType.log_normal: 3>, 'prior': <PriorClass.frequentist_restricted: 1>}\n",
      "Frequentist restricted <1>\n",
      "| param | type       |    initial |      stdev |        min |        max |\n",
      "| g     | Uniform      |          0 |          0 |      1e-08 |      1e+08 |\n",
      "| v     | Uniform      |          0 |          0 |     -1e+08 |      1e+08 |\n",
      "| k     | Uniform      |          0 |          0 |          0 |        100 |\n",
      "| n     | Uniform      |          0 |          0 |          1 |        100 |\n",
      "| rho   | Uniform      |          0 |          0 |     -1e+03 |      1e+03 |\n",
      "| alpha | Uniform      |          0 |          0 |     -1e+03 |      1e+03 |\n",
      "\n",
      "{'disttype': <DistType.normal: 1>, 'prior': <PriorClass.frequentist_unrestricted: 0>}\n",
      "Frequentist restricted <1>\n",
      "| param | type       |    initial |      stdev |        min |        max |\n",
      "| g     | Uniform      |          0 |          0 |     -1e+08 |      1e+08 |\n",
      "| v     | Uniform      |          0 |          0 |     -1e+08 |      1e+08 |\n",
      "| k     | Uniform      |          0 |          0 |          0 |         30 |\n",
      "| n     | Uniform      |          0 |          0 |          1 |         18 |\n",
      "| rho   | Uniform      |          0 |          0 |     -1e+03 |      1e+03 |\n",
      "| alpha | Uniform      |          0 |          0 |     -1e+03 |      1e+03 |\n",
      "\n",
      "{'disttype': <DistType.normal_ncv: 2>, 'prior': <PriorClass.frequentist_unrestricted: 0>}\n",
      "Frequentist restricted <1>\n",
      "| param | type       |    initial |      stdev |        min |        max |\n",
      "| g     | Uniform      |          0 |          0 |     -1e+08 |      1e+08 |\n",
      "| v     | Uniform      |          0 |          0 |     -1e+03 |      1e+03 |\n",
      "| k     | Uniform      |          0 |          0 |          0 |         30 |\n",
      "| n     | Uniform      |          0 |          0 |          1 |         18 |\n",
      "| rho   | Uniform      |          0 |          0 |     -1e+03 |      1e+03 |\n",
      "| alpha | Uniform      |          0 |          0 |     -1e+03 |      1e+03 |\n",
      "\n",
      "{'disttype': <DistType.log_normal: 3>, 'prior': <PriorClass.frequentist_unrestricted: 0>}\n",
      "Frequentist restricted <1>\n",
      "| param | type       |    initial |      stdev |        min |        max |\n",
      "| g     | Uniform      |          0 |          0 |      1e-08 |      1e+08 |\n",
      "| v     | Uniform      |          0 |          0 |     -1e+08 |      1e+08 |\n",
      "| k     | Uniform      |          0 |          0 |          0 |        100 |\n",
      "| n     | Uniform      |          0 |          0 |          1 |        100 |\n",
      "| rho   | Uniform      |          0 |          0 |     -1e+03 |      1e+03 |\n",
      "| alpha | Uniform      |          0 |          0 |     -1e+03 |      1e+03 |\n",
      "\n",
      "{'priors': <PriorClass.bayesian: 2>}\n",
      "Bayesian <2>\n",
      "| param | type       |    initial |      stdev |        min |        max |\n",
      "| g     | Lognormal |          0 |          1 |          0 |         18 |\n",
      "| v     | Normal    |          1 |          2 |        -18 |         18 |\n",
      "| k     | Lognormal |     -0.693 |          1 |          0 |         18 |\n",
      "| n     | Lognormal |      0.405 |       0.25 |          0 |         18 |\n",
      "| rho   | Lognormal |          0 |          1 |          0 |         18 |\n",
      "| alpha | Normal    |          0 |          1 |        -18 |         18 |\n",
      "\n"
     ]
    }
   ],
   "source": [
    "display(HTML('<h2>Continuous</h2>'))\n",
    "\n",
    "print_c_model(continuous.Power, True)\n",
    "\n",
    "print_custom_c_settings(continuous.Polynomial,[\n",
    "    dict(is_increasing=True, priors=PriorClass.frequentist_restricted),\n",
    "    dict(is_increasing=False, priors=PriorClass.frequentist_restricted),\n",
    "    dict(is_increasing=True, priors=PriorClass.frequentist_unrestricted),\n",
    "    dict(is_increasing=False, priors=PriorClass.frequentist_unrestricted),\n",
    "    dict(priors=PriorClass.bayesian),\n",
    "])\n",
    "\n",
    "print_custom_c_settings(continuous.ExponentialM3,[    \n",
    "    dict(is_increasing=True, priors=PriorClass.frequentist_restricted),\n",
    "    dict(is_increasing=False, priors=PriorClass.frequentist_restricted),\n",
    "    dict(priors=PriorClass.bayesian),\n",
    "])\n",
    "print_custom_c_settings(continuous.ExponentialM5,[    \n",
    "    dict(is_increasing=True, priors=PriorClass.frequentist_restricted),\n",
    "    dict(is_increasing=False, priors=PriorClass.frequentist_restricted),\n",
    "    dict(priors=PriorClass.bayesian),\n",
    "])\n",
    "print_custom_c_settings(continuous.Hill,[    \n",
    "    dict(disttype=DistType.normal, prior=PriorClass.frequentist_restricted),\n",
    "    dict(disttype=DistType.normal_ncv, prior=PriorClass.frequentist_restricted),\n",
    "    dict(disttype=DistType.log_normal, prior=PriorClass.frequentist_restricted),\n",
    "    dict(disttype=DistType.normal, prior=PriorClass.frequentist_unrestricted),\n",
    "    dict(disttype=DistType.normal_ncv, prior=PriorClass.frequentist_unrestricted),\n",
    "    dict(disttype=DistType.log_normal, prior=PriorClass.frequentist_unrestricted),\n",
    "    dict(priors=PriorClass.bayesian),\n",
    "])"
   ]
  },
  {
   "cell_type": "code",
   "execution_count": 5,
   "id": "63f7473a-b06f-466e-9f05-b5a499c2ecd7",
   "metadata": {},
   "outputs": [
    {
     "data": {
      "text/html": [
       "<h2>Dichotomous</h2>"
      ],
      "text/plain": [
       "<IPython.core.display.HTML object>"
      ]
     },
     "metadata": {},
     "output_type": "display_data"
    },
    {
     "data": {
      "text/html": [
       "<h3>LogLogistic</h3>"
      ],
      "text/plain": [
       "<IPython.core.display.HTML object>"
      ]
     },
     "metadata": {},
     "output_type": "display_data"
    },
    {
     "name": "stdout",
     "output_type": "stream",
     "text": [
      "Frequentist unrestricted <0>\n",
      "| param | type       |    initial |      stdev |        min |        max |\n",
      "| g     | Uniform      |          0 |          0 |        -18 |         18 |\n",
      "| a     | Uniform      |          0 |          0 |        -18 |         18 |\n",
      "| b     | Uniform      |          0 |          0 |     0.0001 |         18 |\n",
      "\n",
      "Frequentist restricted <1>\n",
      "| param | type       |    initial |      stdev |        min |        max |\n",
      "| g     | Uniform      |          0 |          0 |        -18 |         18 |\n",
      "| a     | Uniform      |          0 |          0 |        -18 |         18 |\n",
      "| b     | Uniform      |          0 |          0 |          1 |         18 |\n",
      "\n",
      "Bayesian <2>\n",
      "| param | type       |    initial |      stdev |        min |        max |\n",
      "| g     | Normal    |          0 |          2 |        -20 |         20 |\n",
      "| a     | Normal    |          0 |          1 |        -40 |         40 |\n",
      "| b     | Lognormal |      0.693 |        0.5 |     0.0001 |         20 |\n",
      "\n"
     ]
    },
    {
     "data": {
      "text/html": [
       "<h3>Gamma</h3>"
      ],
      "text/plain": [
       "<IPython.core.display.HTML object>"
      ]
     },
     "metadata": {},
     "output_type": "display_data"
    },
    {
     "name": "stdout",
     "output_type": "stream",
     "text": [
      "Frequentist unrestricted <0>\n",
      "| param | type       |    initial |      stdev |        min |        max |\n",
      "| g     | Uniform      |          0 |          0 |        -18 |         18 |\n",
      "| a     | Uniform      |          0 |          0 |        0.2 |         18 |\n",
      "| b     | Uniform      |          0 |          0 |          0 |        100 |\n",
      "\n",
      "Frequentist restricted <1>\n",
      "| param | type       |    initial |      stdev |        min |        max |\n",
      "| g     | Uniform      |          0 |          0 |        -18 |         18 |\n",
      "| a     | Uniform      |          0 |          0 |          1 |         18 |\n",
      "| b     | Uniform      |          0 |          0 |          0 |        100 |\n",
      "\n",
      "Bayesian <2>\n",
      "| param | type       |    initial |      stdev |        min |        max |\n",
      "| g     | Normal    |          0 |          2 |        -18 |         18 |\n",
      "| a     | Lognormal |      0.693 |      0.424 |        0.2 |         20 |\n",
      "| b     | Lognormal |          0 |          1 |     0.0001 |        100 |\n",
      "\n"
     ]
    },
    {
     "data": {
      "text/html": [
       "<h3>Logistic</h3>"
      ],
      "text/plain": [
       "<IPython.core.display.HTML object>"
      ]
     },
     "metadata": {},
     "output_type": "display_data"
    },
    {
     "name": "stdout",
     "output_type": "stream",
     "text": [
      "Frequentist unrestricted <0>\n",
      "| param | type       |    initial |      stdev |        min |        max |\n",
      "| a     | Uniform      |          0 |          0 |        -18 |         18 |\n",
      "| b     | Uniform      |          0 |          0 |          0 |        100 |\n",
      "\n",
      "Bayesian <2>\n",
      "| param | type       |    initial |      stdev |        min |        max |\n",
      "| a     | Normal    |          0 |          2 |        -20 |         20 |\n",
      "| b     | Lognormal |        0.1 |          1 |      1e-12 |        100 |\n",
      "\n"
     ]
    },
    {
     "data": {
      "text/html": [
       "<h3>Probit</h3>"
      ],
      "text/plain": [
       "<IPython.core.display.HTML object>"
      ]
     },
     "metadata": {},
     "output_type": "display_data"
    },
    {
     "name": "stdout",
     "output_type": "stream",
     "text": [
      "Frequentist unrestricted <0>\n",
      "| param | type       |    initial |      stdev |        min |        max |\n",
      "| a     | Uniform      |          0 |          0 |        -18 |         18 |\n",
      "| b     | Uniform      |          0 |          0 |          0 |         18 |\n",
      "\n",
      "Bayesian <2>\n",
      "| param | type       |    initial |      stdev |        min |        max |\n",
      "| a     | Normal    |          0 |          2 |         -8 |          8 |\n",
      "| b     | Lognormal |        0.1 |          1 |          0 |         40 |\n",
      "\n"
     ]
    },
    {
     "data": {
      "text/html": [
       "<h3>Quantal Linear</h3>"
      ],
      "text/plain": [
       "<IPython.core.display.HTML object>"
      ]
     },
     "metadata": {},
     "output_type": "display_data"
    },
    {
     "name": "stdout",
     "output_type": "stream",
     "text": [
      "Frequentist unrestricted <0>\n",
      "| param | type       |    initial |      stdev |        min |        max |\n",
      "| a     | Uniform      |          0 |          0 |        -18 |         18 |\n",
      "| b     | Uniform      |          0 |          0 |          0 |        100 |\n",
      "\n",
      "Bayesian <2>\n",
      "| param | type       |    initial |      stdev |        min |        max |\n",
      "| a     | Normal    |          0 |          2 |        -20 |         20 |\n",
      "| b     | Lognormal |        0.5 |          1 |          0 |        100 |\n",
      "\n"
     ]
    },
    {
     "data": {
      "text/html": [
       "<h3>LogProbit</h3>"
      ],
      "text/plain": [
       "<IPython.core.display.HTML object>"
      ]
     },
     "metadata": {},
     "output_type": "display_data"
    },
    {
     "name": "stdout",
     "output_type": "stream",
     "text": [
      "Frequentist unrestricted <0>\n",
      "| param | type       |    initial |      stdev |        min |        max |\n",
      "| g     | Uniform      |          0 |          0 |        -18 |         18 |\n",
      "| a     | Uniform      |          0 |          0 |        -18 |         18 |\n",
      "| b     | Uniform      |          0 |          0 |     0.0001 |         18 |\n",
      "\n",
      "Frequentist restricted <1>\n",
      "| param | type       |    initial |      stdev |        min |        max |\n",
      "| g     | Uniform      |          0 |          0 |        -18 |         18 |\n",
      "| a     | Uniform      |          0 |          0 |        -18 |         18 |\n",
      "| b     | Uniform      |          0 |          0 |          1 |         18 |\n",
      "\n",
      "Bayesian <2>\n",
      "| param | type       |    initial |      stdev |        min |        max |\n",
      "| g     | Normal    |          0 |          2 |        -20 |         20 |\n",
      "| a     | Normal    |          0 |          1 |         -8 |          8 |\n",
      "| b     | Lognormal |      0.693 |        0.5 |     0.0001 |         40 |\n",
      "\n"
     ]
    },
    {
     "data": {
      "text/html": [
       "<h3>Weibull</h3>"
      ],
      "text/plain": [
       "<IPython.core.display.HTML object>"
      ]
     },
     "metadata": {},
     "output_type": "display_data"
    },
    {
     "name": "stdout",
     "output_type": "stream",
     "text": [
      "Frequentist unrestricted <0>\n",
      "| param | type       |    initial |      stdev |        min |        max |\n",
      "| g     | Uniform      |          0 |          0 |        -18 |         18 |\n",
      "| a     | Uniform      |          0 |          0 |      1e-06 |         18 |\n",
      "| b     | Uniform      |          0 |          0 |      1e-06 |        100 |\n",
      "\n",
      "Frequentist restricted <1>\n",
      "| param | type       |    initial |      stdev |        min |        max |\n",
      "| g     | Uniform      |          0 |          0 |        -18 |         18 |\n",
      "| a     | Uniform      |          0 |          0 |          1 |         18 |\n",
      "| b     | Uniform      |          0 |          0 |      1e-06 |        100 |\n",
      "\n",
      "Bayesian <2>\n",
      "| param | type       |    initial |      stdev |        min |        max |\n",
      "| g     | Normal    |          0 |          2 |        -20 |         20 |\n",
      "| a     | Lognormal |      0.693 |      0.424 |     0.0001 |         18 |\n",
      "| b     | Lognormal |          0 |          1 |     0.0001 |        100 |\n",
      "\n"
     ]
    },
    {
     "data": {
      "text/html": [
       "<h3>Multistage</h3>"
      ],
      "text/plain": [
       "<IPython.core.display.HTML object>"
      ]
     },
     "metadata": {},
     "output_type": "display_data"
    },
    {
     "name": "stdout",
     "output_type": "stream",
     "text": [
      "Frequentist unrestricted <0>\n",
      "| param | type       |    initial |      stdev |        min |        max |\n",
      "| g     | Uniform      |          0 |          0 |        -18 |         18 |\n",
      "| a     | Uniform      |          0 |          0 |        -18 |        100 |\n",
      "| b     | Uniform      |          0 |          0 |        -18 |      1e+04 |\n",
      "\n",
      "Frequentist restricted <1>\n",
      "| param | type       |    initial |      stdev |        min |        max |\n",
      "| g     | Uniform      |          0 |          0 |        -18 |         18 |\n",
      "| a     | Uniform      |          0 |          0 |          0 |        100 |\n",
      "| b     | Uniform      |          0 |          0 |          0 |      1e+04 |\n",
      "\n",
      "Bayesian <2>\n",
      "| param | type       |    initial |      stdev |        min |        max |\n",
      "| g     | Normal    |          0 |          2 |        -20 |         20 |\n",
      "| a     | Lognormal |          0 |        0.5 |     0.0001 |        100 |\n",
      "| b     | Lognormal |          0 |          1 |     0.0001 |      1e+06 |\n",
      "\n"
     ]
    },
    {
     "data": {
      "text/html": [
       "<h3>Hill</h3>"
      ],
      "text/plain": [
       "<IPython.core.display.HTML object>"
      ]
     },
     "metadata": {},
     "output_type": "display_data"
    },
    {
     "name": "stdout",
     "output_type": "stream",
     "text": [
      "Frequentist unrestricted <0>\n",
      "| param | type       |    initial |      stdev |        min |        max |\n",
      "| g     | Uniform      |          0 |          0 |        -18 |         18 |\n",
      "| v     | Uniform      |          0 |          0 |        -18 |         18 |\n",
      "| a     | Uniform      |          0 |          0 |        -18 |         18 |\n",
      "| b     | Uniform      |          0 |          0 |      1e-08 |         18 |\n",
      "\n",
      "Frequentist restricted <1>\n",
      "| param | type       |    initial |      stdev |        min |        max |\n",
      "| g     | Uniform      |          0 |          0 |        -18 |         18 |\n",
      "| v     | Uniform      |          0 |          0 |        -18 |         18 |\n",
      "| a     | Uniform      |          0 |          0 |        -18 |         18 |\n",
      "| b     | Uniform      |          0 |          0 |          1 |         18 |\n",
      "\n",
      "Bayesian <2>\n",
      "| param | type       |    initial |      stdev |        min |        max |\n",
      "| g     | Normal    |         -1 |          2 |        -40 |         40 |\n",
      "| v     | Normal    |          0 |          3 |        -40 |         40 |\n",
      "| a     | Normal    |         -3 |        3.3 |        -40 |         40 |\n",
      "| b     | Lognormal |      0.693 |        0.5 |      1e-08 |         40 |\n",
      "\n"
     ]
    }
   ],
   "source": [
    "display(HTML('<h2>Dichotomous</h2>'))\n",
    "print_d_model(dichotomous.LogLogistic, True)\n",
    "print_d_model(dichotomous.Gamma, True)\n",
    "print_d_model(dichotomous.Logistic, False)\n",
    "print_d_model(dichotomous.Probit, False)\n",
    "print_d_model(dichotomous.QuantalLinear, False)\n",
    "print_d_model(dichotomous.LogProbit, True)\n",
    "print_d_model(dichotomous.Weibull, True)\n",
    "print_d_model(dichotomous.Multistage, True)\n",
    "print_d_model(dichotomous.DichotomousHill, True)"
   ]
  }
 ],
 "metadata": {
  "kernelspec": {
   "display_name": "Python 3",
   "language": "python",
   "name": "python3"
  },
  "language_info": {
   "codemirror_mode": {
    "name": "ipython",
    "version": 3
   },
   "file_extension": ".py",
   "mimetype": "text/x-python",
   "name": "python",
   "nbconvert_exporter": "python",
   "pygments_lexer": "ipython3",
   "version": "3.9.2"
  }
 },
 "nbformat": 4,
 "nbformat_minor": 5
}
