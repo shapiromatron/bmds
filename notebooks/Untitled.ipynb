{
 "cells": [
  {
   "cell_type": "code",
   "execution_count": 1,
   "id": "e9dd2091",
   "metadata": {},
   "outputs": [],
   "source": [
    "import pandas as pd\n",
    "from bmds import benchmarks"
   ]
  },
  {
   "cell_type": "code",
   "execution_count": 2,
   "id": "ad7e7f3c",
   "metadata": {},
   "outputs": [],
   "source": [
    "benchmarks.reset_db()\n",
    "benchmarks.setup_db()"
   ]
  },
  {
   "cell_type": "code",
   "execution_count": 3,
   "id": "cf2e07a3-2fa4-42c6-a85f-47158e0fc668",
   "metadata": {},
   "outputs": [
    {
     "data": {
      "application/vnd.jupyter.widget-view+json": {
       "model_id": "",
       "version_major": 2,
       "version_minor": 0
      },
      "text/plain": [
       "  0%|          | 0/10 [00:00<?, ?it/s]"
      ]
     },
     "metadata": {},
     "output_type": "display_data"
    }
   ],
   "source": [
    "benchmarks.run_analysis(\n",
    "    dataset=benchmarks.BenchmarkDataset.TOXREFDB_V2,\n",
    "    analysis=benchmarks.BenchmarkAnalyses.FIT_DICHOTOMOUS,\n",
    "    version=benchmarks.Version.BMDS330,\n",
    "    clear_existing=True    \n",
    ")"
   ]
  },
  {
   "cell_type": "code",
   "execution_count": 4,
   "id": "64795f3f-48f3-49d5-a1fb-8a9ddb6ad3b2",
   "metadata": {},
   "outputs": [
    {
     "data": {
      "application/vnd.jupyter.widget-view+json": {
       "model_id": "",
       "version_major": 2,
       "version_minor": 0
      },
      "text/plain": [
       "  0%|          | 0/2115 [00:00<?, ?it/s]"
      ]
     },
     "metadata": {},
     "output_type": "display_data"
    }
   ],
   "source": [
    "benchmarks.run_analysis(\n",
    "    dataset=benchmarks.BenchmarkDataset.TOXREFDB_V2,\n",
    "    analysis=benchmarks.BenchmarkAnalyses.FIT_CONTINUOUS,\n",
    "    version=benchmarks.Version.BMDS330,\n",
    "    clear_existing=True    \n",
    ")"
   ]
  }
 ],
 "metadata": {
  "kernelspec": {
   "display_name": "Python 3",
   "language": "python",
   "name": "python3"
  },
  "language_info": {
   "codemirror_mode": {
    "name": "ipython",
    "version": 3
   },
   "file_extension": ".py",
   "mimetype": "text/x-python",
   "name": "python",
   "nbconvert_exporter": "python",
   "pygments_lexer": "ipython3",
   "version": "3.9.2"
  }
 },
 "nbformat": 4,
 "nbformat_minor": 5
}
