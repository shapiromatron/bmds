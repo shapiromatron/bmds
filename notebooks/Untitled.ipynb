{
 "cells": [
  {
   "cell_type": "code",
   "execution_count": 1,
   "id": "e9dd2091",
   "metadata": {},
   "outputs": [],
   "source": [
    "import pandas as pd\n",
    "from bmds.benchmarks import db"
   ]
  },
  {
   "cell_type": "code",
   "execution_count": 2,
   "id": "ad7e7f3c",
   "metadata": {},
   "outputs": [],
   "source": [
    "db.reset_db()\n",
    "db.setup_db()"
   ]
  },
  {
   "cell_type": "code",
   "execution_count": 3,
   "id": "f4d1c34c",
   "metadata": {},
   "outputs": [],
   "source": [
    "from bmds.benchmarks import datasets"
   ]
  },
  {
   "cell_type": "code",
   "execution_count": 4,
   "id": "6ad545d5",
   "metadata": {},
   "outputs": [],
   "source": [
    "datasets.load_dataset(datasets.Dataset.TOXREFDB_CONT)"
   ]
  },
  {
   "cell_type": "code",
   "execution_count": 5,
   "id": "e516ba46",
   "metadata": {},
   "outputs": [],
   "source": [
    "datasets.load_dataset(datasets.Dataset.TOXREFDB_DICH)"
   ]
  },
  {
   "cell_type": "code",
   "execution_count": 6,
   "id": "c3c2b1f7",
   "metadata": {},
   "outputs": [
    {
     "name": "stdout",
     "output_type": "stream",
     "text": [
      "5040\n"
     ]
    }
   ],
   "source": [
    "with db.Session() as sess:\n",
    "    print(sess.query(datasets.DichotomousDataset).count())"
   ]
  },
  {
   "cell_type": "code",
   "execution_count": 7,
   "id": "7f10a881",
   "metadata": {},
   "outputs": [
    {
     "data": {
      "text/plain": [
       "2115"
      ]
     },
     "execution_count": 7,
     "metadata": {},
     "output_type": "execute_result"
    }
   ],
   "source": [
    "db.Session().query(datasets.ContinuousDataset).count()"
   ]
  }
 ],
 "metadata": {
  "kernelspec": {
   "display_name": "Python 3",
   "language": "python",
   "name": "python3"
  },
  "language_info": {
   "codemirror_mode": {
    "name": "ipython",
    "version": 3
   },
   "file_extension": ".py",
   "mimetype": "text/x-python",
   "name": "python",
   "nbconvert_exporter": "python",
   "pygments_lexer": "ipython3",
   "version": "3.9.5"
  }
 },
 "nbformat": 4,
 "nbformat_minor": 5
}
