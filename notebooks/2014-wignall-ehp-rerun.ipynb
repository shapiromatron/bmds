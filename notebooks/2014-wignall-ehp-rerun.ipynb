{
 "cells": [
  {
   "cell_type": "markdown",
   "metadata": {
    "deletable": true,
    "editable": true
   },
   "source": [
    "# Using the BMDS Python interface on a large dataset\n",
    "\n",
    "Using data from [Wignall et al. 2014](https://ehp.niehs.nih.gov/1307539/), batch re-run all BMD models using the Python BMDS interface. This dataset includes 880 dose–response data sets for 352 environmental chemicals with existing human health assessments. From the paper:\n",
    "\n",
    "> The U.S. EPA Integrated Risk Information System (IRIS), the U.S. EPA Office of Pesticide Programs, the U.S. EPA Superfund Regional Screening Levels (RSL), and the California EPA were surveyed for publicly available information on chemicals with human health assessments. Superfund RSL also included toxicity values from the U.S. EPA Provisional Peer Reviewed Toxicity Values, the Centers for Disease Control and Prevention’s Agency for Toxic Substances and Disease Registry, and the U.S. EPA Health Effects Assessment Summary Tables. We collected both noncancer and cancer toxicity values [reference doses (RfDs), reference concentrations (RfCs), oral slope factors, inhalation unit risks, and cancer potency values], and PODs that were used to derive the toxicity values, where applicable (NOAELs, LOAELs, and BMDLs).\n",
    "\n",
    "> For each toxicity value, we extracted the dose–response data from the critical study used in the human health assessment. For each chemical, we obtained the name and a unique chemical identifier in the form of the Chemical Abstracts Service Registry Number (CASRN). \n",
    "\n",
    "To run this notebook, first install the [python bmds interface](https://pypi.python.org/pypi/bmds), and update to the latest version, with the command below:"
   ]
  },
  {
   "cell_type": "markdown",
   "metadata": {
    "deletable": true,
    "editable": true
   },
   "source": [
    "Then, we'll start importing all the different Python packages we need:"
   ]
  },
  {
   "cell_type": "code",
   "execution_count": null,
   "metadata": {
    "collapsed": false,
    "deletable": true,
    "editable": true
   },
   "outputs": [],
   "source": [
    "from copy import deepcopy\n",
    "from datetime import datetime\n",
    "import itertools\n",
    "import json\n",
    "import os\n",
    "import time\n",
    "\n",
    "import pandas as pd\n",
    "\n",
    "import bmds"
   ]
  },
  {
   "cell_type": "code",
   "execution_count": null,
   "metadata": {
    "collapsed": true,
    "deletable": true,
    "editable": true
   },
   "outputs": [],
   "source": [
    "# start a timer\n",
    "start_time = datetime.now()"
   ]
  },
  {
   "cell_type": "code",
   "execution_count": null,
   "metadata": {
    "collapsed": true,
    "deletable": true,
    "editable": true
   },
   "outputs": [],
   "source": [
    "# (change output file to where you want it to belong)\n",
    "OUTPUT_FN = '~/Desktop/bmds_outputs.xlsx'"
   ]
  },
  {
   "cell_type": "markdown",
   "metadata": {
    "deletable": true,
    "editable": true
   },
   "source": [
    "## Part #1: parse excel and get data in usable format\n",
    "\n",
    "The data for this paper is available in an Excel file. Dose-response data were collapsed into different columns and semicolon delimited. \n",
    "\n",
    "We load the Excel file into the Python, and then create datasets from each row, only including cases where there are three or more dose-groups.\n",
    "\n",
    "We'll end up with three different lists, one for each data type:\n",
    "\n",
    "- Continuous data\n",
    "- Dichotomous data\n",
    "- Dichotomous cancer data"
   ]
  },
  {
   "cell_type": "code",
   "execution_count": null,
   "metadata": {
    "collapsed": false,
    "deletable": true,
    "editable": true
   },
   "outputs": [],
   "source": [
    "fn = './data/BMD_Results_2014-06-17.xlsx'\n",
    "assert os.path.exists(fn)\n",
    "\n",
    "df = pd.read_excel(fn)\n",
    "df.head()"
   ]
  },
  {
   "cell_type": "code",
   "execution_count": null,
   "metadata": {
    "collapsed": false,
    "deletable": true,
    "editable": true
   },
   "outputs": [],
   "source": [
    "continuous = df[(df['DRType'] == 'Continuous') & (df['#Doses']>=3)]\n",
    "continuous = continuous[['Index', '#Doses', 'Doses', 'Mean Response', \n",
    "                        'SD of response', 'Total Number of Animals']]\n",
    "\n",
    "def continuous_dictify(d):\n",
    "    try:\n",
    "        return dict(\n",
    "              id=d.Index,\n",
    "              doses=list(map(float, d.Doses.split(';'))),\n",
    "              ns=list(map(int, d['Total Number of Animals'].split(';'))),\n",
    "              means=list(map(float, d['Mean Response'].split(';'))),\n",
    "              stdevs=list(map(float, d['SD of response'].split(';'))),\n",
    "        )\n",
    "    except:\n",
    "        print('Row {} not included'.format(d.Index))\n",
    "        return None\n",
    "   \n",
    "continuous_datasets = [\n",
    "    d for d in continuous.apply(continuous_dictify, axis=1) \n",
    "    if d is not None\n",
    "]"
   ]
  },
  {
   "cell_type": "code",
   "execution_count": null,
   "metadata": {
    "collapsed": false,
    "deletable": true,
    "editable": true
   },
   "outputs": [],
   "source": [
    "dichotomous = df[(df['DRType'] == 'Dichotomous') & (df['#Doses']>=3)]\n",
    "dichotomous = dichotomous[['Index', '#Doses', 'Doses', \n",
    "                           'Incidence in Number of Animals', 'Total Number of Animals']]\n",
    "\n",
    "def dichotomous_dictify(d):\n",
    "    try:\n",
    "        return dict(\n",
    "              id=d.Index,\n",
    "              doses=list(map(float, d.Doses.split(';'))),\n",
    "              ns=list(map(int, d['Total Number of Animals'].split(';'))),\n",
    "              incidences=list(map(int, d['Incidence in Number of Animals'].split(';'))),\n",
    "        )\n",
    "    except:\n",
    "        print('Row {} not included'.format(d.Index))\n",
    "        return None\n",
    "   \n",
    "dichotomous_datasets = [\n",
    "    d for d in dichotomous.apply(dichotomous_dictify, axis=1) \n",
    "    if d is not None\n",
    "]"
   ]
  },
  {
   "cell_type": "code",
   "execution_count": null,
   "metadata": {
    "collapsed": false,
    "deletable": true,
    "editable": true
   },
   "outputs": [],
   "source": [
    "dichotomous_cancer = df[(df['DRType'] == 'Cancer Dichotomous') & (df['#Doses']>=3)]\n",
    "dichotomous_cancer = dichotomous_cancer[['Index', '#Doses', 'Doses', \n",
    "                                         'Incidence in Number of Animals', 'Total Number of Animals']]\n",
    "\n",
    "dichotomous_cancer_datasets = [\n",
    "    d for d in dichotomous_cancer.apply(dichotomous_dictify, axis=1)\n",
    "    if d is not None\n",
    "]"
   ]
  },
  {
   "cell_type": "markdown",
   "metadata": {
    "deletable": true,
    "editable": true
   },
   "source": [
    "## Part #2: Execute datasets\n",
    "\n",
    "For each dataset, iteratively drop doses until there are no more doses to drop (3), or until a recommended model is found. This is consistent with what was done in the paper.\n",
    "\n",
    "We return a successful BMD session or the final BMD session that was executed that failed and there were no remaining dose-groups availble to drop."
   ]
  },
  {
   "cell_type": "code",
   "execution_count": null,
   "metadata": {
    "collapsed": true,
    "deletable": true,
    "editable": true
   },
   "outputs": [],
   "source": [
    "def get_bmds_dataset(dtype, dataset):\n",
    "    if dtype == bmds.constants.CONTINUOUS:\n",
    "        cls = bmds.ContinuousDataset\n",
    "    elif dtype in bmds.constants.DICHOTOMOUS_DTYPES:\n",
    "        cls = bmds.DichotomousDataset\n",
    "    return cls(**dataset)"
   ]
  },
  {
   "cell_type": "code",
   "execution_count": null,
   "metadata": {
    "collapsed": true,
    "deletable": true,
    "editable": true
   },
   "outputs": [],
   "source": [
    "def execute_with_dose_drops(dtype, original_dataset):\n",
    "    dataset = deepcopy(original_dataset)\n",
    "    bmds_dataset = get_bmds_dataset(dtype, dataset)\n",
    "    session = bmds.BMDS.version('BMDS270', dtype, dataset=bmds_dataset)\n",
    "    session.add_default_models()\n",
    "    session.execute_and_recommend(drop_doses=True)\n",
    "    return session"
   ]
  },
  {
   "cell_type": "markdown",
   "metadata": {
    "deletable": true,
    "editable": true
   },
   "source": [
    "Now, execute the models, dropping doses as needed:"
   ]
  },
  {
   "cell_type": "code",
   "execution_count": null,
   "metadata": {
    "collapsed": false,
    "deletable": true,
    "editable": true
   },
   "outputs": [],
   "source": [
    "continuous_results = [\n",
    "    execute_with_dose_drops(bmds.constants.CONTINUOUS, dataset) \n",
    "    for dataset in continuous_datasets\n",
    "]"
   ]
  },
  {
   "cell_type": "code",
   "execution_count": null,
   "metadata": {
    "collapsed": false,
    "deletable": true,
    "editable": true,
    "scrolled": false
   },
   "outputs": [],
   "source": [
    "dichotomous_results = [\n",
    "    execute_with_dose_drops(bmds.constants.DICHOTOMOUS, dataset) \n",
    "    for dataset in dichotomous_datasets\n",
    "]"
   ]
  },
  {
   "cell_type": "code",
   "execution_count": null,
   "metadata": {
    "collapsed": true,
    "deletable": true,
    "editable": true
   },
   "outputs": [],
   "source": [
    "dichotomous_cancer_results = [\n",
    "    execute_with_dose_drops(bmds.constants.DICHOTOMOUS_CANCER, dataset) \n",
    "    for dataset in dichotomous_cancer_datasets\n",
    "]"
   ]
  },
  {
   "cell_type": "markdown",
   "metadata": {
    "collapsed": true,
    "deletable": true,
    "editable": true
   },
   "source": [
    "## Part #3: Print results in a spreadsheet\n",
    "\n",
    "After execution is complete, iterate over all sessions. For each session, print a single row for each model. The model should include the dfile input file, the output file, parsed outputs, model binning, and overall model recommendation for this dataset."
   ]
  },
  {
   "cell_type": "code",
   "execution_count": null,
   "metadata": {
    "collapsed": false,
    "deletable": true,
    "editable": true
   },
   "outputs": [],
   "source": [
    "def get_od():\n",
    "    # return an ordered defaultdict list\n",
    "    keys = [\n",
    "        'dataset_id', 'doses_dropped', \n",
    "        \n",
    "        'model_name', 'model_version', 'has_output',\n",
    "\n",
    "        'BMD', 'BMDL', 'BMDU', 'CSF',\n",
    "        'AIC', 'pvalue1', 'pvalue2', 'pvalue3', 'pvalue4',\n",
    "        'Chi2', 'df', 'residual_of_interest',\n",
    "        'warnings',\n",
    "\n",
    "        'logic_bin', 'logic_cautions', 'logic_warnings', 'logic_failures',\n",
    "        'recommended', 'recommended_variable',\n",
    "\n",
    "        'dfile', 'outfile',\n",
    "    ]\n",
    "\n",
    "    return {key: [] for key in keys}\n",
    "\n",
    "flat = get_od()\n",
    "for session in itertools.chain(continuous_results, dichotomous_results, dichotomous_cancer_results):\n",
    "    for model in session.models:\n",
    "        # dataset-level\n",
    "        flat['dataset_id'].append(session.dataset.kwargs['id'])\n",
    "        flat['doses_dropped'].append(session.doses_dropped)\n",
    "        \n",
    "        # model-level\n",
    "        flat['model_name'].append(model.name)\n",
    "        flat['model_version'].append(model.version)\n",
    "        flat['has_output'].append(model.has_successfully_executed)\n",
    "        \n",
    "        # outputs\n",
    "        op = getattr(model, 'output', {})\n",
    "        if op is None:\n",
    "            op =  {}\n",
    "        flat['BMD'].append(op.get('BMD'))\n",
    "        flat['BMDL'].append(op.get('BMDL'))\n",
    "        flat['BMDU'].append(op.get('BMDU'))\n",
    "        flat['CSF'].append(op.get('CSF'))\n",
    "        flat['AIC'].append(op.get('AIC'))\n",
    "        flat['pvalue1'].append(op.get('p_value1'))\n",
    "        flat['pvalue2'].append(op.get('p_value2'))\n",
    "        flat['pvalue3'].append(op.get('p_value3'))\n",
    "        flat['pvalue4'].append(op.get('p_value4'))\n",
    "        flat['Chi2'].append(op.get('Chi2'))\n",
    "        flat['df'].append(op.get('df'))\n",
    "        flat['residual_of_interest'].append(op.get('residual_of_interest'))\n",
    "        flat['warnings'].append('\\n'.join(op.get('warnings', [])))\n",
    "        \n",
    "        # logic\n",
    "        flat['logic_bin'].append(model.logic_bin)\n",
    "        flat['logic_cautions'].append('\\n'.join(model.logic_notes[0]))\n",
    "        flat['logic_warnings'].append('\\n'.join(model.logic_notes[1]))\n",
    "        flat['logic_failures'].append('\\n'.join(model.logic_notes[2]))\n",
    "        flat['recommended'].append(model.recommended)\n",
    "        flat['recommended_variable'].append(model.recommended_variable)\n",
    "        \n",
    "        flat['dfile'].append(model.as_dfile())\n",
    "        flat['outfile'].append(getattr(model, 'outfile', ''))\n",
    "        \n",
    "# output filename \n",
    "fn = os.path.expanduser(OUTPUT_FN)\n",
    "\n",
    "output_df = pd.DataFrame(flat)\n",
    "output_df.sort_values(['dataset_id', 'model_name'], inplace=True)\n",
    "output_df.to_excel(fn, index=False)"
   ]
  },
  {
   "cell_type": "markdown",
   "metadata": {
    "deletable": true,
    "editable": true
   },
   "source": [
    "Finally, for benchmarking, print the total time it took to complete this analysis:"
   ]
  },
  {
   "cell_type": "code",
   "execution_count": null,
   "metadata": {
    "collapsed": false,
    "deletable": true,
    "editable": true
   },
   "outputs": [],
   "source": [
    "end_time = datetime.now()\n",
    "delta = end_time - start_time\n",
    "print('Total time: {0:2.5} minutes'.format(str(delta.total_seconds()/60.), 2))"
   ]
  },
  {
   "cell_type": "code",
   "execution_count": null,
   "metadata": {
    "collapsed": true,
    "deletable": true,
    "editable": true
   },
   "outputs": [],
   "source": []
  }
 ],
 "metadata": {
  "kernelspec": {
   "display_name": "Python 3",
   "language": "python",
   "name": "python3"
  },
  "language_info": {
   "codemirror_mode": {
    "name": "ipython",
    "version": 3
   },
   "file_extension": ".py",
   "mimetype": "text/x-python",
   "name": "python",
   "nbconvert_exporter": "python",
   "pygments_lexer": "ipython3",
   "version": "3.6.0"
  }
 },
 "nbformat": 4,
 "nbformat_minor": 2
}